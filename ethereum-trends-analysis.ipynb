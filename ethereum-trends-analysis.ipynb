{
 "cells": [
  {
   "cell_type": "markdown",
   "metadata": {
    "papermill": {
     "duration": 0.020875,
     "end_time": "2021-07-27T17:53:44.600361",
     "exception": false,
     "start_time": "2021-07-27T17:53:44.579486",
     "status": "completed"
    },
    "tags": []
   },
   "source": [
    "# Introduction"
   ]
  },
  {
   "cell_type": "markdown",
   "metadata": {
    "papermill": {
     "duration": 0.01887,
     "end_time": "2021-07-27T17:53:44.639648",
     "exception": false,
     "start_time": "2021-07-27T17:53:44.620778",
     "status": "completed"
    },
    "tags": []
   },
   "source": [
    "**Ethereum** is a blockchain platform with its own cryptocurrency, called **Ether** (ETH) or Ethereum, and its own programming language, called Solidity.\n",
    "\n",
    "As a blockchain network, Ethereum is a **decentralized** public ledger for verifying and recording transactions. The network's users can create, publish, monetize, and use **applications** on the platform, and use its Ether cryptocurrency as payment. Insiders call the decentralized applications on the network \"dapps.\"\n",
    "\n",
    "As a cryptocurrency, Ethereum is second in market value only to Bitcoin, as of May 2021."
   ]
  },
  {
   "cell_type": "code",
   "execution_count": 1,
   "metadata": {
    "_cell_guid": "b1076dfc-b9ad-4769-8c92-a6c4dae69d19",
    "_uuid": "8f2839f25d086af736a60e9eeb907d3b93b6e0e5",
    "papermill": {
     "duration": 1.045998,
     "end_time": "2021-07-27T17:53:53.681990",
     "exception": false,
     "start_time": "2021-07-27T17:53:52.635992",
     "status": "completed"
    },
    "tags": []
   },
   "outputs": [],
   "source": [
    "import numpy as np \n",
    "import pandas as pd\n",
    "import matplotlib.pyplot as plt\n",
    "import seaborn as sns\n",
    "from mplfinance.original_flavor import candlestick_ohlc\n",
    "import matplotlib.dates as mpl_dates\n",
    "from yahoo_fin.stock_info import *"
   ]
  },
  {
   "cell_type": "code",
   "execution_count": 2,
   "metadata": {},
   "outputs": [],
   "source": [
    "df = get_data('ETH-USD', start_date='2015-08-07')"
   ]
  },
  {
   "cell_type": "code",
   "execution_count": 3,
   "metadata": {},
   "outputs": [],
   "source": [
    "df = df.drop(columns=['ticker','adjclose'])"
   ]
  },
  {
   "cell_type": "code",
   "execution_count": 4,
   "metadata": {},
   "outputs": [
    {
     "data": {
      "text/html": [
       "<div>\n",
       "<style scoped>\n",
       "    .dataframe tbody tr th:only-of-type {\n",
       "        vertical-align: middle;\n",
       "    }\n",
       "\n",
       "    .dataframe tbody tr th {\n",
       "        vertical-align: top;\n",
       "    }\n",
       "\n",
       "    .dataframe thead th {\n",
       "        text-align: right;\n",
       "    }\n",
       "</style>\n",
       "<table border=\"1\" class=\"dataframe\">\n",
       "  <thead>\n",
       "    <tr style=\"text-align: right;\">\n",
       "      <th></th>\n",
       "      <th>open</th>\n",
       "      <th>high</th>\n",
       "      <th>low</th>\n",
       "      <th>close</th>\n",
       "      <th>volume</th>\n",
       "    </tr>\n",
       "  </thead>\n",
       "  <tbody>\n",
       "    <tr>\n",
       "      <th>2015-08-06</th>\n",
       "      <td>2.831620</td>\n",
       "      <td>3.536610</td>\n",
       "      <td>2.521120</td>\n",
       "      <td>2.772120</td>\n",
       "      <td>1.643290e+05</td>\n",
       "    </tr>\n",
       "    <tr>\n",
       "      <th>2015-08-07</th>\n",
       "      <td>2.793760</td>\n",
       "      <td>2.798810</td>\n",
       "      <td>0.714725</td>\n",
       "      <td>0.753325</td>\n",
       "      <td>6.741880e+05</td>\n",
       "    </tr>\n",
       "    <tr>\n",
       "      <th>2015-08-08</th>\n",
       "      <td>0.706136</td>\n",
       "      <td>0.879810</td>\n",
       "      <td>0.629191</td>\n",
       "      <td>0.701897</td>\n",
       "      <td>5.321700e+05</td>\n",
       "    </tr>\n",
       "    <tr>\n",
       "      <th>2015-08-09</th>\n",
       "      <td>0.713989</td>\n",
       "      <td>0.729854</td>\n",
       "      <td>0.636546</td>\n",
       "      <td>0.708448</td>\n",
       "      <td>4.052830e+05</td>\n",
       "    </tr>\n",
       "    <tr>\n",
       "      <th>2015-08-10</th>\n",
       "      <td>0.708087</td>\n",
       "      <td>1.131410</td>\n",
       "      <td>0.663235</td>\n",
       "      <td>1.067860</td>\n",
       "      <td>1.463100e+06</td>\n",
       "    </tr>\n",
       "    <tr>\n",
       "      <th>...</th>\n",
       "      <td>...</td>\n",
       "      <td>...</td>\n",
       "      <td>...</td>\n",
       "      <td>...</td>\n",
       "      <td>...</td>\n",
       "    </tr>\n",
       "    <tr>\n",
       "      <th>2021-09-07</th>\n",
       "      <td>3428.378174</td>\n",
       "      <td>3559.121338</td>\n",
       "      <td>3224.764893</td>\n",
       "      <td>3497.315186</td>\n",
       "      <td>3.173843e+10</td>\n",
       "    </tr>\n",
       "    <tr>\n",
       "      <th>2021-09-08</th>\n",
       "      <td>3452.548340</td>\n",
       "      <td>3562.992676</td>\n",
       "      <td>3400.517090</td>\n",
       "      <td>3427.340088</td>\n",
       "      <td>2.411806e+10</td>\n",
       "    </tr>\n",
       "    <tr>\n",
       "      <th>2021-09-09</th>\n",
       "      <td>3425.564941</td>\n",
       "      <td>3512.571289</td>\n",
       "      <td>3157.059082</td>\n",
       "      <td>3211.505859</td>\n",
       "      <td>2.235597e+10</td>\n",
       "    </tr>\n",
       "    <tr>\n",
       "      <th>2021-09-10</th>\n",
       "      <td>3209.030518</td>\n",
       "      <td>3346.526367</td>\n",
       "      <td>3208.961914</td>\n",
       "      <td>3270.278076</td>\n",
       "      <td>1.862712e+10</td>\n",
       "    </tr>\n",
       "    <tr>\n",
       "      <th>2021-09-12</th>\n",
       "      <td>3274.266113</td>\n",
       "      <td>3441.549561</td>\n",
       "      <td>3237.788330</td>\n",
       "      <td>3430.735840</td>\n",
       "      <td>1.850806e+10</td>\n",
       "    </tr>\n",
       "  </tbody>\n",
       "</table>\n",
       "<p>2229 rows × 5 columns</p>\n",
       "</div>"
      ],
      "text/plain": [
       "                   open         high          low        close        volume\n",
       "2015-08-06     2.831620     3.536610     2.521120     2.772120  1.643290e+05\n",
       "2015-08-07     2.793760     2.798810     0.714725     0.753325  6.741880e+05\n",
       "2015-08-08     0.706136     0.879810     0.629191     0.701897  5.321700e+05\n",
       "2015-08-09     0.713989     0.729854     0.636546     0.708448  4.052830e+05\n",
       "2015-08-10     0.708087     1.131410     0.663235     1.067860  1.463100e+06\n",
       "...                 ...          ...          ...          ...           ...\n",
       "2021-09-07  3428.378174  3559.121338  3224.764893  3497.315186  3.173843e+10\n",
       "2021-09-08  3452.548340  3562.992676  3400.517090  3427.340088  2.411806e+10\n",
       "2021-09-09  3425.564941  3512.571289  3157.059082  3211.505859  2.235597e+10\n",
       "2021-09-10  3209.030518  3346.526367  3208.961914  3270.278076  1.862712e+10\n",
       "2021-09-12  3274.266113  3441.549561  3237.788330  3430.735840  1.850806e+10\n",
       "\n",
       "[2229 rows x 5 columns]"
      ]
     },
     "execution_count": 4,
     "metadata": {},
     "output_type": "execute_result"
    }
   ],
   "source": [
    "df"
   ]
  },
  {
   "cell_type": "code",
   "execution_count": 5,
   "metadata": {
    "papermill": {
     "duration": 0.051517,
     "end_time": "2021-07-27T17:53:53.882619",
     "exception": false,
     "start_time": "2021-07-27T17:53:53.831102",
     "status": "completed"
    },
    "tags": []
   },
   "outputs": [
    {
     "data": {
      "text/html": [
       "<div>\n",
       "<style scoped>\n",
       "    .dataframe tbody tr th:only-of-type {\n",
       "        vertical-align: middle;\n",
       "    }\n",
       "\n",
       "    .dataframe tbody tr th {\n",
       "        vertical-align: top;\n",
       "    }\n",
       "\n",
       "    .dataframe thead th {\n",
       "        text-align: right;\n",
       "    }\n",
       "</style>\n",
       "<table border=\"1\" class=\"dataframe\">\n",
       "  <thead>\n",
       "    <tr style=\"text-align: right;\">\n",
       "      <th></th>\n",
       "      <th>open</th>\n",
       "      <th>high</th>\n",
       "      <th>low</th>\n",
       "      <th>close</th>\n",
       "      <th>volume</th>\n",
       "    </tr>\n",
       "  </thead>\n",
       "  <tbody>\n",
       "    <tr>\n",
       "      <th>2015-08-06</th>\n",
       "      <td>2.831620</td>\n",
       "      <td>3.536610</td>\n",
       "      <td>2.521120</td>\n",
       "      <td>2.772120</td>\n",
       "      <td>164329.0</td>\n",
       "    </tr>\n",
       "    <tr>\n",
       "      <th>2015-08-07</th>\n",
       "      <td>2.793760</td>\n",
       "      <td>2.798810</td>\n",
       "      <td>0.714725</td>\n",
       "      <td>0.753325</td>\n",
       "      <td>674188.0</td>\n",
       "    </tr>\n",
       "    <tr>\n",
       "      <th>2015-08-08</th>\n",
       "      <td>0.706136</td>\n",
       "      <td>0.879810</td>\n",
       "      <td>0.629191</td>\n",
       "      <td>0.701897</td>\n",
       "      <td>532170.0</td>\n",
       "    </tr>\n",
       "    <tr>\n",
       "      <th>2015-08-09</th>\n",
       "      <td>0.713989</td>\n",
       "      <td>0.729854</td>\n",
       "      <td>0.636546</td>\n",
       "      <td>0.708448</td>\n",
       "      <td>405283.0</td>\n",
       "    </tr>\n",
       "    <tr>\n",
       "      <th>2015-08-10</th>\n",
       "      <td>0.708087</td>\n",
       "      <td>1.131410</td>\n",
       "      <td>0.663235</td>\n",
       "      <td>1.067860</td>\n",
       "      <td>1463100.0</td>\n",
       "    </tr>\n",
       "  </tbody>\n",
       "</table>\n",
       "</div>"
      ],
      "text/plain": [
       "                open      high       low     close     volume\n",
       "2015-08-06  2.831620  3.536610  2.521120  2.772120   164329.0\n",
       "2015-08-07  2.793760  2.798810  0.714725  0.753325   674188.0\n",
       "2015-08-08  0.706136  0.879810  0.629191  0.701897   532170.0\n",
       "2015-08-09  0.713989  0.729854  0.636546  0.708448   405283.0\n",
       "2015-08-10  0.708087  1.131410  0.663235  1.067860  1463100.0"
      ]
     },
     "execution_count": 5,
     "metadata": {},
     "output_type": "execute_result"
    }
   ],
   "source": [
    "df.head()"
   ]
  },
  {
   "cell_type": "code",
   "execution_count": 6,
   "metadata": {
    "papermill": {
     "duration": 0.053447,
     "end_time": "2021-07-27T17:53:53.957814",
     "exception": false,
     "start_time": "2021-07-27T17:53:53.904367",
     "status": "completed"
    },
    "tags": []
   },
   "outputs": [
    {
     "data": {
      "text/html": [
       "<div>\n",
       "<style scoped>\n",
       "    .dataframe tbody tr th:only-of-type {\n",
       "        vertical-align: middle;\n",
       "    }\n",
       "\n",
       "    .dataframe tbody tr th {\n",
       "        vertical-align: top;\n",
       "    }\n",
       "\n",
       "    .dataframe thead th {\n",
       "        text-align: right;\n",
       "    }\n",
       "</style>\n",
       "<table border=\"1\" class=\"dataframe\">\n",
       "  <thead>\n",
       "    <tr style=\"text-align: right;\">\n",
       "      <th></th>\n",
       "      <th>open</th>\n",
       "      <th>high</th>\n",
       "      <th>low</th>\n",
       "      <th>close</th>\n",
       "      <th>volume</th>\n",
       "    </tr>\n",
       "  </thead>\n",
       "  <tbody>\n",
       "    <tr>\n",
       "      <th>count</th>\n",
       "      <td>2225.000000</td>\n",
       "      <td>2225.000000</td>\n",
       "      <td>2225.000000</td>\n",
       "      <td>2225.000000</td>\n",
       "      <td>2.225000e+03</td>\n",
       "    </tr>\n",
       "    <tr>\n",
       "      <th>mean</th>\n",
       "      <td>457.056302</td>\n",
       "      <td>474.880178</td>\n",
       "      <td>437.490996</td>\n",
       "      <td>458.556595</td>\n",
       "      <td>7.465318e+09</td>\n",
       "    </tr>\n",
       "    <tr>\n",
       "      <th>std</th>\n",
       "      <td>732.046687</td>\n",
       "      <td>762.865344</td>\n",
       "      <td>697.821674</td>\n",
       "      <td>734.762104</td>\n",
       "      <td>1.081046e+10</td>\n",
       "    </tr>\n",
       "    <tr>\n",
       "      <th>min</th>\n",
       "      <td>0.431589</td>\n",
       "      <td>0.482988</td>\n",
       "      <td>0.420897</td>\n",
       "      <td>0.434829</td>\n",
       "      <td>1.021280e+05</td>\n",
       "    </tr>\n",
       "    <tr>\n",
       "      <th>25%</th>\n",
       "      <td>14.302800</td>\n",
       "      <td>14.813400</td>\n",
       "      <td>13.734900</td>\n",
       "      <td>14.398600</td>\n",
       "      <td>4.401330e+07</td>\n",
       "    </tr>\n",
       "    <tr>\n",
       "      <th>50%</th>\n",
       "      <td>205.173996</td>\n",
       "      <td>211.384415</td>\n",
       "      <td>199.047729</td>\n",
       "      <td>205.319748</td>\n",
       "      <td>2.330720e+09</td>\n",
       "    </tr>\n",
       "    <tr>\n",
       "      <th>75%</th>\n",
       "      <td>422.587006</td>\n",
       "      <td>435.457001</td>\n",
       "      <td>407.851715</td>\n",
       "      <td>423.669312</td>\n",
       "      <td>1.047515e+10</td>\n",
       "    </tr>\n",
       "    <tr>\n",
       "      <th>max</th>\n",
       "      <td>4174.635742</td>\n",
       "      <td>4362.350586</td>\n",
       "      <td>3868.994385</td>\n",
       "      <td>4168.701172</td>\n",
       "      <td>8.448291e+10</td>\n",
       "    </tr>\n",
       "  </tbody>\n",
       "</table>\n",
       "</div>"
      ],
      "text/plain": [
       "              open         high          low        close        volume\n",
       "count  2225.000000  2225.000000  2225.000000  2225.000000  2.225000e+03\n",
       "mean    457.056302   474.880178   437.490996   458.556595  7.465318e+09\n",
       "std     732.046687   762.865344   697.821674   734.762104  1.081046e+10\n",
       "min       0.431589     0.482988     0.420897     0.434829  1.021280e+05\n",
       "25%      14.302800    14.813400    13.734900    14.398600  4.401330e+07\n",
       "50%     205.173996   211.384415   199.047729   205.319748  2.330720e+09\n",
       "75%     422.587006   435.457001   407.851715   423.669312  1.047515e+10\n",
       "max    4174.635742  4362.350586  3868.994385  4168.701172  8.448291e+10"
      ]
     },
     "execution_count": 6,
     "metadata": {},
     "output_type": "execute_result"
    }
   ],
   "source": [
    "df.describe()"
   ]
  },
  {
   "cell_type": "code",
   "execution_count": 7,
   "metadata": {
    "papermill": {
     "duration": 0.031947,
     "end_time": "2021-07-27T17:53:54.011264",
     "exception": false,
     "start_time": "2021-07-27T17:53:53.979317",
     "status": "completed"
    },
    "tags": []
   },
   "outputs": [],
   "source": [
    "df['100ma'] = df['close'].rolling(window = 100, min_periods = 0).mean()"
   ]
  },
  {
   "cell_type": "code",
   "execution_count": 8,
   "metadata": {
    "papermill": {
     "duration": 0.043096,
     "end_time": "2021-07-27T17:53:54.075135",
     "exception": false,
     "start_time": "2021-07-27T17:53:54.032039",
     "status": "completed"
    },
    "tags": []
   },
   "outputs": [
    {
     "data": {
      "text/html": [
       "<div>\n",
       "<style scoped>\n",
       "    .dataframe tbody tr th:only-of-type {\n",
       "        vertical-align: middle;\n",
       "    }\n",
       "\n",
       "    .dataframe tbody tr th {\n",
       "        vertical-align: top;\n",
       "    }\n",
       "\n",
       "    .dataframe thead th {\n",
       "        text-align: right;\n",
       "    }\n",
       "</style>\n",
       "<table border=\"1\" class=\"dataframe\">\n",
       "  <thead>\n",
       "    <tr style=\"text-align: right;\">\n",
       "      <th></th>\n",
       "      <th>open</th>\n",
       "      <th>high</th>\n",
       "      <th>low</th>\n",
       "      <th>close</th>\n",
       "      <th>volume</th>\n",
       "      <th>100ma</th>\n",
       "    </tr>\n",
       "  </thead>\n",
       "  <tbody>\n",
       "    <tr>\n",
       "      <th>2015-08-06</th>\n",
       "      <td>2.831620</td>\n",
       "      <td>3.536610</td>\n",
       "      <td>2.521120</td>\n",
       "      <td>2.772120</td>\n",
       "      <td>1.643290e+05</td>\n",
       "      <td>2.772120</td>\n",
       "    </tr>\n",
       "    <tr>\n",
       "      <th>2015-08-07</th>\n",
       "      <td>2.793760</td>\n",
       "      <td>2.798810</td>\n",
       "      <td>0.714725</td>\n",
       "      <td>0.753325</td>\n",
       "      <td>6.741880e+05</td>\n",
       "      <td>1.762722</td>\n",
       "    </tr>\n",
       "    <tr>\n",
       "      <th>2015-08-08</th>\n",
       "      <td>0.706136</td>\n",
       "      <td>0.879810</td>\n",
       "      <td>0.629191</td>\n",
       "      <td>0.701897</td>\n",
       "      <td>5.321700e+05</td>\n",
       "      <td>1.409114</td>\n",
       "    </tr>\n",
       "    <tr>\n",
       "      <th>2015-08-09</th>\n",
       "      <td>0.713989</td>\n",
       "      <td>0.729854</td>\n",
       "      <td>0.636546</td>\n",
       "      <td>0.708448</td>\n",
       "      <td>4.052830e+05</td>\n",
       "      <td>1.233948</td>\n",
       "    </tr>\n",
       "    <tr>\n",
       "      <th>2015-08-10</th>\n",
       "      <td>0.708087</td>\n",
       "      <td>1.131410</td>\n",
       "      <td>0.663235</td>\n",
       "      <td>1.067860</td>\n",
       "      <td>1.463100e+06</td>\n",
       "      <td>1.200730</td>\n",
       "    </tr>\n",
       "    <tr>\n",
       "      <th>...</th>\n",
       "      <td>...</td>\n",
       "      <td>...</td>\n",
       "      <td>...</td>\n",
       "      <td>...</td>\n",
       "      <td>...</td>\n",
       "      <td>...</td>\n",
       "    </tr>\n",
       "    <tr>\n",
       "      <th>2021-09-07</th>\n",
       "      <td>3428.378174</td>\n",
       "      <td>3559.121338</td>\n",
       "      <td>3224.764893</td>\n",
       "      <td>3497.315186</td>\n",
       "      <td>3.173843e+10</td>\n",
       "      <td>2624.456797</td>\n",
       "    </tr>\n",
       "    <tr>\n",
       "      <th>2021-09-08</th>\n",
       "      <td>3452.548340</td>\n",
       "      <td>3562.992676</td>\n",
       "      <td>3400.517090</td>\n",
       "      <td>3427.340088</td>\n",
       "      <td>2.411806e+10</td>\n",
       "      <td>2632.395015</td>\n",
       "    </tr>\n",
       "    <tr>\n",
       "      <th>2021-09-09</th>\n",
       "      <td>3425.564941</td>\n",
       "      <td>3512.571289</td>\n",
       "      <td>3157.059082</td>\n",
       "      <td>3211.505859</td>\n",
       "      <td>2.235597e+10</td>\n",
       "      <td>2637.448823</td>\n",
       "    </tr>\n",
       "    <tr>\n",
       "      <th>2021-09-10</th>\n",
       "      <td>3209.030518</td>\n",
       "      <td>3346.526367</td>\n",
       "      <td>3208.961914</td>\n",
       "      <td>3270.278076</td>\n",
       "      <td>1.862712e+10</td>\n",
       "      <td>2641.600339</td>\n",
       "    </tr>\n",
       "    <tr>\n",
       "      <th>2021-09-12</th>\n",
       "      <td>3274.266113</td>\n",
       "      <td>3441.549561</td>\n",
       "      <td>3237.788330</td>\n",
       "      <td>3430.735840</td>\n",
       "      <td>1.850806e+10</td>\n",
       "      <td>2649.025747</td>\n",
       "    </tr>\n",
       "  </tbody>\n",
       "</table>\n",
       "<p>2229 rows × 6 columns</p>\n",
       "</div>"
      ],
      "text/plain": [
       "                   open         high          low        close        volume  \\\n",
       "2015-08-06     2.831620     3.536610     2.521120     2.772120  1.643290e+05   \n",
       "2015-08-07     2.793760     2.798810     0.714725     0.753325  6.741880e+05   \n",
       "2015-08-08     0.706136     0.879810     0.629191     0.701897  5.321700e+05   \n",
       "2015-08-09     0.713989     0.729854     0.636546     0.708448  4.052830e+05   \n",
       "2015-08-10     0.708087     1.131410     0.663235     1.067860  1.463100e+06   \n",
       "...                 ...          ...          ...          ...           ...   \n",
       "2021-09-07  3428.378174  3559.121338  3224.764893  3497.315186  3.173843e+10   \n",
       "2021-09-08  3452.548340  3562.992676  3400.517090  3427.340088  2.411806e+10   \n",
       "2021-09-09  3425.564941  3512.571289  3157.059082  3211.505859  2.235597e+10   \n",
       "2021-09-10  3209.030518  3346.526367  3208.961914  3270.278076  1.862712e+10   \n",
       "2021-09-12  3274.266113  3441.549561  3237.788330  3430.735840  1.850806e+10   \n",
       "\n",
       "                  100ma  \n",
       "2015-08-06     2.772120  \n",
       "2015-08-07     1.762722  \n",
       "2015-08-08     1.409114  \n",
       "2015-08-09     1.233948  \n",
       "2015-08-10     1.200730  \n",
       "...                 ...  \n",
       "2021-09-07  2624.456797  \n",
       "2021-09-08  2632.395015  \n",
       "2021-09-09  2637.448823  \n",
       "2021-09-10  2641.600339  \n",
       "2021-09-12  2649.025747  \n",
       "\n",
       "[2229 rows x 6 columns]"
      ]
     },
     "execution_count": 8,
     "metadata": {},
     "output_type": "execute_result"
    }
   ],
   "source": [
    "df"
   ]
  },
  {
   "cell_type": "markdown",
   "metadata": {
    "papermill": {
     "duration": 0.021254,
     "end_time": "2021-07-27T17:53:54.118207",
     "exception": false,
     "start_time": "2021-07-27T17:53:54.096953",
     "status": "completed"
    },
    "tags": []
   },
   "source": [
    "# Visualizations"
   ]
  },
  {
   "cell_type": "code",
   "execution_count": 9,
   "metadata": {
    "papermill": {
     "duration": 0.654417,
     "end_time": "2021-07-27T17:53:54.793743",
     "exception": false,
     "start_time": "2021-07-27T17:53:54.139326",
     "status": "completed"
    },
    "tags": []
   },
   "outputs": [
    {
     "data": {
      "image/png": "[encoded data removed]",
      "text/plain": [
       "<Figure size 1152x432 with 1 Axes>"
      ]
     },
     "metadata": {
      "needs_background": "light"
     },
     "output_type": "display_data"
    }
   ],
   "source": [
    "fig, ax = plt.subplots(figsize=(16,6))\n",
    "ax.plot(df.index, df.close)\n",
    "ax.plot(df.index, df['100ma'])\n",
    "ax.xaxis.set_major_locator(plt.MaxNLocator(15)) # reduce number of x-labels\n",
    "plt.title('Ethereum Prices')\n",
    "plt.grid()\n",
    "plt.show()"
   ]
  },
  {
   "cell_type": "code",
   "execution_count": 10,
   "metadata": {
    "papermill": {
     "duration": 0.432044,
     "end_time": "2021-07-27T17:53:55.249382",
     "exception": false,
     "start_time": "2021-07-27T17:53:54.817338",
     "status": "completed"
    },
    "tags": []
   },
   "outputs": [
    {
     "data": {
      "image/png": "[encoded data removed]",
      "text/plain": [
       "<Figure size 1152x432 with 1 Axes>"
      ]
     },
     "metadata": {
      "needs_background": "light"
     },
     "output_type": "display_data"
    }
   ],
   "source": [
    "fig, ax = plt.subplots(figsize=(16,6))\n",
    "ax.plot(df.index, df.volume)\n",
    "ax.xaxis.set_major_locator(plt.MaxNLocator(15)) # reduce number of x-labels\n",
    "plt.title('Ethereum Volumes')\n",
    "plt.grid()\n",
    "plt.show()"
   ]
  },
  {
   "cell_type": "markdown",
   "metadata": {
    "papermill": {
     "duration": 0.023976,
     "end_time": "2021-07-27T17:53:55.298604",
     "exception": false,
     "start_time": "2021-07-27T17:53:55.274628",
     "status": "completed"
    },
    "tags": []
   },
   "source": [
    "# Market Cap"
   ]
  },
  {
   "cell_type": "code",
   "execution_count": 11,
   "metadata": {
    "papermill": {
     "duration": 0.049695,
     "end_time": "2021-07-27T17:53:55.372503",
     "exception": false,
     "start_time": "2021-07-27T17:53:55.322808",
     "status": "completed"
    },
    "tags": []
   },
   "outputs": [],
   "source": [
    "df['Total Traded'] = df['open']*df['volume']"
   ]
  },
  {
   "cell_type": "code",
   "execution_count": 12,
   "metadata": {
    "papermill": {
     "duration": 0.428173,
     "end_time": "2021-07-27T17:53:55.825165",
     "exception": false,
     "start_time": "2021-07-27T17:53:55.396992",
     "status": "completed"
    },
    "tags": []
   },
   "outputs": [
    {
     "data": {
      "image/png": "[encoded data removed]",
      "text/plain": [
       "<Figure size 1152x432 with 1 Axes>"
      ]
     },
     "metadata": {
      "needs_background": "light"
     },
     "output_type": "display_data"
    }
   ],
   "source": [
    "fig, ax = plt.subplots(figsize=(16,6))\n",
    "ax.plot(df.index, df['Total Traded'])\n",
    "ax.xaxis.set_major_locator(plt.MaxNLocator(15)) # reduce number of x-labels\n",
    "plt.title('Total Traded')\n",
    "plt.grid()\n",
    "plt.show()"
   ]
  },
  {
   "cell_type": "markdown",
   "metadata": {
    "papermill": {
     "duration": 0.025681,
     "end_time": "2021-07-27T17:53:55.877537",
     "exception": false,
     "start_time": "2021-07-27T17:53:55.851856",
     "status": "completed"
    },
    "tags": []
   },
   "source": [
    "We notice a **huge spike** in Ethereum market cap somewhere in 2021 let's investigate more :"
   ]
  },
  {
   "cell_type": "code",
   "execution_count": 13,
   "metadata": {
    "papermill": {
     "duration": 0.037931,
     "end_time": "2021-07-27T17:53:55.941251",
     "exception": false,
     "start_time": "2021-07-27T17:53:55.903320",
     "status": "completed"
    },
    "tags": []
   },
   "outputs": [
    {
     "data": {
      "text/plain": [
       "Timestamp('2021-05-12 00:00:00')"
      ]
     },
     "execution_count": 13,
     "metadata": {},
     "output_type": "execute_result"
    }
   ],
   "source": [
    "df.index[df['Total Traded'].argmax()]"
   ]
  },
  {
   "cell_type": "markdown",
   "metadata": {
    "papermill": {
     "duration": 0.02493,
     "end_time": "2021-07-27T17:53:55.991414",
     "exception": false,
     "start_time": "2021-07-27T17:53:55.966484",
     "status": "completed"
    },
    "tags": []
   },
   "source": [
    "After a quick web search we found out that around 13th March, Ethereum spiked due to the rise of NFTs and DeFi applications to quote from the article : \n",
    "> Ethereum’s growth is attributed to an increasing number of developers building **decentralized finance** (DeFi) applications on the Ethereum blockchain platform. The rise of **non-fungible tokens** (NFT) also increases demand for Ethereum.\n",
    "> Lastly, continued institutional interest in treating crypto like any other security also helps ETH. Coinbase is the new NYSE. ETH is No. 2 on Coinbase after Bitcoin.\n",
    "> Seeing how the DeFi and NFT movements are directly connected to Ethereum, their increased activity has been the main driver for ETH prices in 2021, says Andrew Moss, GSR Capital’s managing director. “Users need ETH to interact with these technologies, so the more people who are involved with these communities and protocols, the higher the value of ETH goes,” he says.\n",
    "\n",
    "* Source : https://www.forbes.com/sites/kenrapoza/2021/05/16/ethereum-faces-weekend-rout-but-some-see-eth-doubling-from-here/?sh=6845bee93817"
   ]
  },
  {
   "cell_type": "markdown",
   "metadata": {
    "papermill": {
     "duration": 0.024977,
     "end_time": "2021-07-27T17:53:56.042522",
     "exception": false,
     "start_time": "2021-07-27T17:53:56.017545",
     "status": "completed"
    },
    "tags": []
   },
   "source": [
    "We are going to plot a candlestick plot for Ethereum prices from April 2021"
   ]
  },
  {
   "cell_type": "code",
   "execution_count": 14,
   "metadata": {
    "papermill": {
     "duration": 0.721763,
     "end_time": "2021-07-27T17:53:56.789680",
     "exception": false,
     "start_time": "2021-07-27T17:53:56.067917",
     "status": "completed"
    },
    "tags": []
   },
   "outputs": [
    {
     "name": "stderr",
     "output_type": "stream",
     "text": [
      "<ipython-input-14-7fa3e646448b>:2: SettingWithCopyWarning: \n",
      "A value is trying to be set on a copy of a slice from a DataFrame.\n",
      "Try using .loc[row_indexer,col_indexer] = value instead\n",
      "\n",
      "See the caveats in the documentation: https://pandas.pydata.org/pandas-docs/stable/user_guide/indexing.html#returning-a-view-versus-a-copy\n",
      "  ohlc['date'] = ohlc.index\n"
     ]
    },
    {
     "data": {
      "image/png": "[encoded data removed]",
      "text/plain": [
       "<Figure size 1152x432 with 1 Axes>"
      ]
     },
     "metadata": {
      "needs_background": "light"
     },
     "output_type": "display_data"
    }
   ],
   "source": [
    "ohlc = df[(df.index > '2021-04-01') & (df.index <= '2021-09-10')]\n",
    "ohlc['date'] = ohlc.index\n",
    "ohlc = ohlc.loc[:, ['date','open', 'high', 'low', 'close']]\n",
    "ohlc['date'] = pd.to_datetime(ohlc['date'])\n",
    "ohlc['date'] = ohlc['date'].apply(mpl_dates.date2num)\n",
    "ohlc = ohlc.astype(float)\n",
    "fig, ax = plt.subplots(figsize = (16,6))\n",
    "candlestick_ohlc(ax, ohlc.values, width=0.6, colorup='green', colordown='red', alpha=0.8)\n",
    "ax.set_xlabel('date')\n",
    "ax.set_ylabel('price')\n",
    "date_format = mpl_dates.DateFormatter('%d-%m-%Y')\n",
    "ax.xaxis.set_major_formatter(date_format)\n",
    "fig.autofmt_xdate()\n",
    "\n",
    "fig.tight_layout()\n",
    "\n",
    "plt.show()"
   ]
  },
  {
   "cell_type": "markdown",
   "metadata": {
    "papermill": {
     "duration": 0.025789,
     "end_time": "2021-07-27T17:53:56.842753",
     "exception": false,
     "start_time": "2021-07-27T17:53:56.816964",
     "status": "completed"
    },
    "tags": []
   },
   "source": [
    "# Daily Percentage Change"
   ]
  },
  {
   "cell_type": "markdown",
   "metadata": {
    "papermill": {
     "duration": 0.026152,
     "end_time": "2021-07-27T17:53:56.895703",
     "exception": false,
     "start_time": "2021-07-27T17:53:56.869551",
     "status": "completed"
    },
    "tags": []
   },
   "source": [
    "The simple daily percentage change in closing price (without dividends and other factors) is the percentage change in the value of a stock over a single day of trading. It is defined by the following formula:\n",
    "\n",
    "$$r_{t}=\\frac{p_{t}}{p_{t-1}}-1$$\n",
    "\n",
    "It's really useful as it indicates how **volatile** the currency is"
   ]
  },
  {
   "cell_type": "code",
   "execution_count": 15,
   "metadata": {
    "papermill": {
     "duration": 0.040302,
     "end_time": "2021-07-27T17:53:56.963020",
     "exception": false,
     "start_time": "2021-07-27T17:53:56.922718",
     "status": "completed"
    },
    "tags": []
   },
   "outputs": [],
   "source": [
    "df[\"returns\"] = (df[\"close\"]/df[\"close\"].shift(1)) - 1"
   ]
  },
  {
   "cell_type": "code",
   "execution_count": 16,
   "metadata": {
    "papermill": {
     "duration": 0.431829,
     "end_time": "2021-07-27T17:53:57.421247",
     "exception": false,
     "start_time": "2021-07-27T17:53:56.989418",
     "status": "completed"
    },
    "tags": []
   },
   "outputs": [
    {
     "data": {
      "image/png": "[encoded data removed]",
      "text/plain": [
       "<Figure size 1152x432 with 1 Axes>"
      ]
     },
     "metadata": {
      "needs_background": "light"
     },
     "output_type": "display_data"
    }
   ],
   "source": [
    "fig, ax = plt.subplots(figsize=(16,6))\n",
    "ax.plot(df.index, df['returns'])\n",
    "ax.xaxis.set_major_locator(plt.MaxNLocator(15)) # reduce number of x-labels\n",
    "plt.title('Returns')\n",
    "plt.grid()\n",
    "plt.show()"
   ]
  },
  {
   "cell_type": "code",
   "execution_count": 17,
   "metadata": {
    "papermill": {
     "duration": 0.362576,
     "end_time": "2021-07-27T17:53:57.812258",
     "exception": false,
     "start_time": "2021-07-27T17:53:57.449682",
     "status": "completed"
    },
    "tags": []
   },
   "outputs": [
    {
     "data": {
      "text/plain": [
       "<AxesSubplot:>"
      ]
     },
     "execution_count": 17,
     "metadata": {},
     "output_type": "execute_result"
    },
    {
     "data": {
      "image/png": "[encoded data removed]",
      "text/plain": [
       "<Figure size 432x288 with 1 Axes>"
      ]
     },
     "metadata": {
      "needs_background": "light"
     },
     "output_type": "display_data"
    }
   ],
   "source": [
    "df[\"returns\"].hist(bins=100)"
   ]
  },
  {
   "cell_type": "code",
   "execution_count": 18,
   "metadata": {
    "papermill": {
     "duration": 0.042307,
     "end_time": "2021-07-27T17:53:57.883592",
     "exception": false,
     "start_time": "2021-07-27T17:53:57.841285",
     "status": "completed"
    },
    "tags": []
   },
   "outputs": [
    {
     "data": {
      "text/plain": [
       "count    2221.000000\n",
       "mean        0.005320\n",
       "std         0.064497\n",
       "min        -0.728250\n",
       "25%        -0.022891\n",
       "50%         0.000787\n",
       "75%         0.029767\n",
       "max         0.507323\n",
       "Name: returns, dtype: float64"
      ]
     },
     "execution_count": 18,
     "metadata": {},
     "output_type": "execute_result"
    }
   ],
   "source": [
    "df[\"returns\"].describe()"
   ]
  },
  {
   "cell_type": "code",
   "execution_count": 19,
   "metadata": {
    "papermill": {
     "duration": 0.158545,
     "end_time": "2021-07-27T17:53:58.071356",
     "exception": false,
     "start_time": "2021-07-27T17:53:57.912811",
     "status": "completed"
    },
    "tags": []
   },
   "outputs": [
    {
     "data": {
      "text/plain": [
       "<AxesSubplot:>"
      ]
     },
     "execution_count": 19,
     "metadata": {},
     "output_type": "execute_result"
    },
    {
     "data": {
      "image/png": "[encoded data removed]",
      "text/plain": [
       "<Figure size 432x432 with 1 Axes>"
      ]
     },
     "metadata": {
      "needs_background": "light"
     },
     "output_type": "display_data"
    }
   ],
   "source": [
    "df[\"returns\"].plot(kind = \"box\", figsize = (6,6))"
   ]
  },
  {
   "cell_type": "markdown",
   "metadata": {
    "papermill": {
     "duration": 0.031331,
     "end_time": "2021-07-27T17:53:58.134344",
     "exception": false,
     "start_time": "2021-07-27T17:53:58.103013",
     "status": "completed"
    },
    "tags": []
   },
   "source": [
    "# Cumulative Return"
   ]
  },
  {
   "cell_type": "markdown",
   "metadata": {
    "papermill": {
     "duration": 0.02992,
     "end_time": "2021-07-27T17:53:58.195017",
     "exception": false,
     "start_time": "2021-07-27T17:53:58.165097",
     "status": "completed"
    },
    "tags": []
   },
   "source": [
    "A cumulative return on an investment is the aggregate amount that the investment has gained or lost over time, independent of the amount of time involved. The cumulative return is expressed as a percentage, and it is the raw mathematical return of the following calculation: \n",
    "\n",
    "$$i_{t}=\\left(1+r_{t}\\right) i_{t-1}$$"
   ]
  },
  {
   "cell_type": "code",
   "execution_count": 20,
   "metadata": {
    "papermill": {
     "duration": 0.041963,
     "end_time": "2021-07-27T17:53:58.266719",
     "exception": false,
     "start_time": "2021-07-27T17:53:58.224756",
     "status": "completed"
    },
    "tags": []
   },
   "outputs": [],
   "source": [
    "df[\"Cumulative Return\"] = (1 + df[\"returns\"]).cumprod()"
   ]
  },
  {
   "cell_type": "code",
   "execution_count": 21,
   "metadata": {
    "papermill": {
     "duration": 0.055346,
     "end_time": "2021-07-27T17:53:58.352138",
     "exception": false,
     "start_time": "2021-07-27T17:53:58.296792",
     "status": "completed"
    },
    "tags": []
   },
   "outputs": [
    {
     "data": {
      "text/html": [
       "<div>\n",
       "<style scoped>\n",
       "    .dataframe tbody tr th:only-of-type {\n",
       "        vertical-align: middle;\n",
       "    }\n",
       "\n",
       "    .dataframe tbody tr th {\n",
       "        vertical-align: top;\n",
       "    }\n",
       "\n",
       "    .dataframe thead th {\n",
       "        text-align: right;\n",
       "    }\n",
       "</style>\n",
       "<table border=\"1\" class=\"dataframe\">\n",
       "  <thead>\n",
       "    <tr style=\"text-align: right;\">\n",
       "      <th></th>\n",
       "      <th>open</th>\n",
       "      <th>high</th>\n",
       "      <th>low</th>\n",
       "      <th>close</th>\n",
       "      <th>volume</th>\n",
       "      <th>100ma</th>\n",
       "      <th>Total Traded</th>\n",
       "      <th>returns</th>\n",
       "      <th>Cumulative Return</th>\n",
       "    </tr>\n",
       "  </thead>\n",
       "  <tbody>\n",
       "    <tr>\n",
       "      <th>2015-08-06</th>\n",
       "      <td>2.831620</td>\n",
       "      <td>3.536610</td>\n",
       "      <td>2.521120</td>\n",
       "      <td>2.772120</td>\n",
       "      <td>1.643290e+05</td>\n",
       "      <td>2.772120</td>\n",
       "      <td>4.653173e+05</td>\n",
       "      <td>NaN</td>\n",
       "      <td>NaN</td>\n",
       "    </tr>\n",
       "    <tr>\n",
       "      <th>2015-08-07</th>\n",
       "      <td>2.793760</td>\n",
       "      <td>2.798810</td>\n",
       "      <td>0.714725</td>\n",
       "      <td>0.753325</td>\n",
       "      <td>6.741880e+05</td>\n",
       "      <td>1.762722</td>\n",
       "      <td>1.883520e+06</td>\n",
       "      <td>-0.728250</td>\n",
       "      <td>0.271750</td>\n",
       "    </tr>\n",
       "    <tr>\n",
       "      <th>2015-08-08</th>\n",
       "      <td>0.706136</td>\n",
       "      <td>0.879810</td>\n",
       "      <td>0.629191</td>\n",
       "      <td>0.701897</td>\n",
       "      <td>5.321700e+05</td>\n",
       "      <td>1.409114</td>\n",
       "      <td>3.757844e+05</td>\n",
       "      <td>-0.068268</td>\n",
       "      <td>0.253199</td>\n",
       "    </tr>\n",
       "    <tr>\n",
       "      <th>2015-08-09</th>\n",
       "      <td>0.713989</td>\n",
       "      <td>0.729854</td>\n",
       "      <td>0.636546</td>\n",
       "      <td>0.708448</td>\n",
       "      <td>4.052830e+05</td>\n",
       "      <td>1.233948</td>\n",
       "      <td>2.893676e+05</td>\n",
       "      <td>0.009333</td>\n",
       "      <td>0.255562</td>\n",
       "    </tr>\n",
       "    <tr>\n",
       "      <th>2015-08-10</th>\n",
       "      <td>0.708087</td>\n",
       "      <td>1.131410</td>\n",
       "      <td>0.663235</td>\n",
       "      <td>1.067860</td>\n",
       "      <td>1.463100e+06</td>\n",
       "      <td>1.200730</td>\n",
       "      <td>1.036002e+06</td>\n",
       "      <td>0.507323</td>\n",
       "      <td>0.385214</td>\n",
       "    </tr>\n",
       "    <tr>\n",
       "      <th>...</th>\n",
       "      <td>...</td>\n",
       "      <td>...</td>\n",
       "      <td>...</td>\n",
       "      <td>...</td>\n",
       "      <td>...</td>\n",
       "      <td>...</td>\n",
       "      <td>...</td>\n",
       "      <td>...</td>\n",
       "      <td>...</td>\n",
       "    </tr>\n",
       "    <tr>\n",
       "      <th>2021-09-07</th>\n",
       "      <td>3428.378174</td>\n",
       "      <td>3559.121338</td>\n",
       "      <td>3224.764893</td>\n",
       "      <td>3497.315186</td>\n",
       "      <td>3.173843e+10</td>\n",
       "      <td>2624.456797</td>\n",
       "      <td>1.088113e+14</td>\n",
       "      <td>0.020698</td>\n",
       "      <td>1088.286818</td>\n",
       "    </tr>\n",
       "    <tr>\n",
       "      <th>2021-09-08</th>\n",
       "      <td>3452.548340</td>\n",
       "      <td>3562.992676</td>\n",
       "      <td>3400.517090</td>\n",
       "      <td>3427.340088</td>\n",
       "      <td>2.411806e+10</td>\n",
       "      <td>2632.395015</td>\n",
       "      <td>8.326875e+13</td>\n",
       "      <td>-0.020008</td>\n",
       "      <td>1066.512122</td>\n",
       "    </tr>\n",
       "    <tr>\n",
       "      <th>2021-09-09</th>\n",
       "      <td>3425.564941</td>\n",
       "      <td>3512.571289</td>\n",
       "      <td>3157.059082</td>\n",
       "      <td>3211.505859</td>\n",
       "      <td>2.235597e+10</td>\n",
       "      <td>2637.448823</td>\n",
       "      <td>7.658184e+13</td>\n",
       "      <td>-0.062974</td>\n",
       "      <td>999.349303</td>\n",
       "    </tr>\n",
       "    <tr>\n",
       "      <th>2021-09-10</th>\n",
       "      <td>3209.030518</td>\n",
       "      <td>3346.526367</td>\n",
       "      <td>3208.961914</td>\n",
       "      <td>3270.278076</td>\n",
       "      <td>1.862712e+10</td>\n",
       "      <td>2641.600339</td>\n",
       "      <td>5.977501e+13</td>\n",
       "      <td>0.018301</td>\n",
       "      <td>1017.637912</td>\n",
       "    </tr>\n",
       "    <tr>\n",
       "      <th>2021-09-12</th>\n",
       "      <td>3274.266113</td>\n",
       "      <td>3441.549561</td>\n",
       "      <td>3237.788330</td>\n",
       "      <td>3430.735840</td>\n",
       "      <td>1.850806e+10</td>\n",
       "      <td>2649.025747</td>\n",
       "      <td>6.060033e+13</td>\n",
       "      <td>0.049065</td>\n",
       "      <td>1067.568804</td>\n",
       "    </tr>\n",
       "  </tbody>\n",
       "</table>\n",
       "<p>2229 rows × 9 columns</p>\n",
       "</div>"
      ],
      "text/plain": [
       "                   open         high          low        close        volume  \\\n",
       "2015-08-06     2.831620     3.536610     2.521120     2.772120  1.643290e+05   \n",
       "2015-08-07     2.793760     2.798810     0.714725     0.753325  6.741880e+05   \n",
       "2015-08-08     0.706136     0.879810     0.629191     0.701897  5.321700e+05   \n",
       "2015-08-09     0.713989     0.729854     0.636546     0.708448  4.052830e+05   \n",
       "2015-08-10     0.708087     1.131410     0.663235     1.067860  1.463100e+06   \n",
       "...                 ...          ...          ...          ...           ...   \n",
       "2021-09-07  3428.378174  3559.121338  3224.764893  3497.315186  3.173843e+10   \n",
       "2021-09-08  3452.548340  3562.992676  3400.517090  3427.340088  2.411806e+10   \n",
       "2021-09-09  3425.564941  3512.571289  3157.059082  3211.505859  2.235597e+10   \n",
       "2021-09-10  3209.030518  3346.526367  3208.961914  3270.278076  1.862712e+10   \n",
       "2021-09-12  3274.266113  3441.549561  3237.788330  3430.735840  1.850806e+10   \n",
       "\n",
       "                  100ma  Total Traded   returns  Cumulative Return  \n",
       "2015-08-06     2.772120  4.653173e+05       NaN                NaN  \n",
       "2015-08-07     1.762722  1.883520e+06 -0.728250           0.271750  \n",
       "2015-08-08     1.409114  3.757844e+05 -0.068268           0.253199  \n",
       "2015-08-09     1.233948  2.893676e+05  0.009333           0.255562  \n",
       "2015-08-10     1.200730  1.036002e+06  0.507323           0.385214  \n",
       "...                 ...           ...       ...                ...  \n",
       "2021-09-07  2624.456797  1.088113e+14  0.020698        1088.286818  \n",
       "2021-09-08  2632.395015  8.326875e+13 -0.020008        1066.512122  \n",
       "2021-09-09  2637.448823  7.658184e+13 -0.062974         999.349303  \n",
       "2021-09-10  2641.600339  5.977501e+13  0.018301        1017.637912  \n",
       "2021-09-12  2649.025747  6.060033e+13  0.049065        1067.568804  \n",
       "\n",
       "[2229 rows x 9 columns]"
      ]
     },
     "execution_count": 21,
     "metadata": {},
     "output_type": "execute_result"
    }
   ],
   "source": [
    "df"
   ]
  },
  {
   "cell_type": "code",
   "execution_count": 22,
   "metadata": {
    "papermill": {
     "duration": 0.429269,
     "end_time": "2021-07-27T17:53:58.811887",
     "exception": false,
     "start_time": "2021-07-27T17:53:58.382618",
     "status": "completed"
    },
    "tags": []
   },
   "outputs": [
    {
     "data": {
      "image/png": "[encoded data removed]",
      "text/plain": [
       "<Figure size 1152x432 with 1 Axes>"
      ]
     },
     "metadata": {
      "needs_background": "light"
     },
     "output_type": "display_data"
    }
   ],
   "source": [
    "fig, ax = plt.subplots(figsize=(16,6))\n",
    "ax.plot(df.index, df['Cumulative Return'])\n",
    "ax.xaxis.set_major_locator(plt.MaxNLocator(15)) # reduce number of x-labels\n",
    "plt.title('Cumulative Return')\n",
    "plt.grid()\n",
    "plt.show()"
   ]
  },
  {
   "cell_type": "code",
   "execution_count": 23,
   "metadata": {
    "papermill": {
     "duration": 0.04414,
     "end_time": "2021-07-27T17:53:58.888366",
     "exception": false,
     "start_time": "2021-07-27T17:53:58.844226",
     "status": "completed"
    },
    "tags": []
   },
   "outputs": [
    {
     "data": {
      "text/plain": [
       "open                 3.948272e+03\n",
       "high                 4.178209e+03\n",
       "low                  3.783889e+03\n",
       "close                4.168701e+03\n",
       "volume               5.267974e+10\n",
       "100ma                2.094011e+03\n",
       "Total Traded         2.079939e+14\n",
       "returns              5.475484e-02\n",
       "Cumulative Return    1.297207e+03\n",
       "Name: 2021-05-10 00:00:00, dtype: float64"
      ]
     },
     "execution_count": 23,
     "metadata": {},
     "output_type": "execute_result"
    }
   ],
   "source": [
    "df.iloc[df['Cumulative Return'].argmax()]"
   ]
  },
  {
   "cell_type": "markdown",
   "metadata": {
    "papermill": {
     "duration": 0.0323,
     "end_time": "2021-07-27T17:53:58.953127",
     "exception": false,
     "start_time": "2021-07-27T17:53:58.920827",
     "status": "completed"
    },
    "tags": []
   },
   "source": [
    "## Conclusion : \n",
    "\n",
    "We see that **May 2021** was the best time to sell if you want the most profit after that the value of Ethereum kinda went down, also **2017** was also a good time for Ethereum, if you have been investing since the start you would have gained **730%** in returns and if you sold at the peak you would have gained **1300%**, We also notice that Ethereum is highly **volatile** so one should be very cautious while investing.\n",
    "\n",
    "Cryptocurrency in general are quite volatile this is the case for many reasons and as I'm a financial expert I'm gonna quote an article i searched for :\n",
    ">Many of the reasons for price volatility in mainstream markets hold true for cryptocurrencies as well. News developments and speculation are responsible for fueling price swings in crypto and mainstream markets alike. But their effect is exaggerated in crypto markets as they have less liquidity than traditional financial markets — a result of crypto markets lacking a robust ecosystem of institutional investors and large trading firms. Heightened volatility and a lack of liquidity can create a dangerous combination because both feed off of each other. Other than bitcoin, most other cryptocurrencies also lack established and widely adopted derivatives markets. Under the sway of day traders and speculators, crypto prices sometimes exhibit healthy volatility of the type we see in mainstream markets.\n",
    "\n",
    "* Source : https://www.gemini.com/cryptopedia/volatility-index-crypto-market-price\n",
    "\n",
    "But I still think that Ethereum still has a bright future especially after the recent developments of **Ethereum 2.0**"
   ]
  },
  {
   "cell_type": "markdown",
   "metadata": {},
   "source": [
    "### Why can't we use machine learning to predict prices ?"
   ]
  },
  {
   "cell_type": "markdown",
   "metadata": {},
   "source": [
    "There is far more going on in the stock market data than can be captured simply by looking at a univariate series of historical values. The stock prices are not the result of a couple of underlying causal factors, but a rather a multitude of contributions as well as a good dose of human irrationality. Indeed it has been posited that stock data is almost random.\n",
    "\n",
    "There is a great notebook that explains why predicting stock prices is very hard :\n",
    "https://www.kaggle.com/carlmcbrideellis/lstm-time-series-stock-price-prediction-fail\n",
    "\n",
    "as we can see in the acf and pacf plots below there isn't much correlations between current returns and past data"
   ]
  },
  {
   "cell_type": "code",
   "execution_count": 24,
   "metadata": {},
   "outputs": [],
   "source": [
    "from statsmodels.graphics.tsaplots import plot_acf, plot_pacf\n",
    "from pandas.plotting import register_matplotlib_converters"
   ]
  },
  {
   "cell_type": "code",
   "execution_count": 31,
   "metadata": {},
   "outputs": [
    {
     "data": {
      "image/png": "[encoded data removed]",
      "text/plain": [
       "<Figure size 432x288 with 1 Axes>"
      ]
     },
     "metadata": {
      "needs_background": "light"
     },
     "output_type": "display_data"
    }
   ],
   "source": [
    "acf_plot = plot_acf(df.returns.dropna(), lags=35)"
   ]
  },
  {
   "cell_type": "code",
   "execution_count": 32,
   "metadata": {},
   "outputs": [
    {
     "data": {
      "image/png": "[encoded data removed]",
      "text/plain": [
       "<Figure size 432x288 with 1 Axes>"
      ]
     },
     "metadata": {
      "needs_background": "light"
     },
     "output_type": "display_data"
    }
   ],
   "source": [
    "pacf_plot = plot_pacf(df.returns.dropna())"
   ]
  }
 ],
 "metadata": {
  "kernelspec": {
   "display_name": "Python 3",
   "language": "python",
   "name": "python3"
  },
  "language_info": {
   "codemirror_mode": {
    "name": "ipython",
    "version": 3
   },
   "file_extension": ".py",
   "mimetype": "text/x-python",
   "name": "python",
   "nbconvert_exporter": "python",
   "pygments_lexer": "ipython3",
   "version": "3.8.2"
  },
  "papermill": {
   "default_parameters": {},
   "duration": 23.927421,
   "end_time": "2021-07-27T17:54:00.604987",
   "environment_variables": {},
   "exception": null,
   "input_path": "__notebook__.ipynb",
   "output_path": "__notebook__.ipynb",
   "parameters": {},
   "start_time": "2021-07-27T17:53:36.677566",
   "version": "2.3.3"
  }
 },
 "nbformat": 4,
 "nbformat_minor": 5
}
