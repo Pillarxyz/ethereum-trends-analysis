{
 "cells": [
  {
   "cell_type": "markdown",
   "metadata": {
    "papermill": {
     "duration": 0.020875,
     "end_time": "2021-07-27T17:53:44.600361",
     "exception": false,
     "start_time": "2021-07-27T17:53:44.579486",
     "status": "completed"
    },
    "tags": []
   },
   "source": [
    "# Introduction"
   ]
  },
  {
   "cell_type": "markdown",
   "metadata": {
    "papermill": {
     "duration": 0.01887,
     "end_time": "2021-07-27T17:53:44.639648",
     "exception": false,
     "start_time": "2021-07-27T17:53:44.620778",
     "status": "completed"
    },
    "tags": []
   },
   "source": [
    "**Ethereum** is a blockchain platform with its own cryptocurrency, called **Ether** (ETH) or Ethereum, and its own programming language, called Solidity.\n",
    "\n",
    "As a blockchain network, Ethereum is a **decentralized** public ledger for verifying and recording transactions. The network's users can create, publish, monetize, and use **applications** on the platform, and use its Ether cryptocurrency as payment. Insiders call the decentralized applications on the network \"dapps.\"\n",
    "\n",
    "As a cryptocurrency, Ethereum is second in market value only to Bitcoin, as of May 2021."
   ]
  },
  {
   "cell_type": "code",
   "execution_count": 1,
   "metadata": {
    "_cell_guid": "b1076dfc-b9ad-4769-8c92-a6c4dae69d19",
    "_uuid": "8f2839f25d086af736a60e9eeb907d3b93b6e0e5",
    "papermill": {
     "duration": 1.045998,
     "end_time": "2021-07-27T17:53:53.681990",
     "exception": false,
     "start_time": "2021-07-27T17:53:52.635992",
     "status": "completed"
    },
    "tags": []
   },
   "outputs": [],
   "source": [
    "import numpy as np \n",
    "import pandas as pd\n",
    "import matplotlib.pyplot as plt\n",
    "import seaborn as sns\n",
    "from mplfinance.original_flavor import candlestick_ohlc\n",
    "import matplotlib.dates as mpl_dates"
   ]
  },
  {
   "cell_type": "code",
   "execution_count": 2,
   "metadata": {
    "papermill": {
     "duration": 0.048158,
     "end_time": "2021-07-27T17:53:53.750097",
     "exception": false,
     "start_time": "2021-07-27T17:53:53.701939",
     "status": "completed"
    },
    "tags": []
   },
   "outputs": [],
   "source": [
    "df = pd.read_csv(\"ETH-USD.csv\",parse_dates=True)"
   ]
  },
  {
   "cell_type": "code",
   "execution_count": 3,
   "metadata": {
    "papermill": {
     "duration": 0.03983,
     "end_time": "2021-07-27T17:53:53.810723",
     "exception": false,
     "start_time": "2021-07-27T17:53:53.770893",
     "status": "completed"
    },
    "tags": []
   },
   "outputs": [],
   "source": [
    "df = df.drop(columns=['Adj Close'])"
   ]
  },
  {
   "cell_type": "code",
   "execution_count": 4,
   "metadata": {
    "papermill": {
     "duration": 0.051517,
     "end_time": "2021-07-27T17:53:53.882619",
     "exception": false,
     "start_time": "2021-07-27T17:53:53.831102",
     "status": "completed"
    },
    "tags": []
   },
   "outputs": [
    {
     "data": {
      "text/html": [
       "<div>\n",
       "<style scoped>\n",
       "    .dataframe tbody tr th:only-of-type {\n",
       "        vertical-align: middle;\n",
       "    }\n",
       "\n",
       "    .dataframe tbody tr th {\n",
       "        vertical-align: top;\n",
       "    }\n",
       "\n",
       "    .dataframe thead th {\n",
       "        text-align: right;\n",
       "    }\n",
       "</style>\n",
       "<table border=\"1\" class=\"dataframe\">\n",
       "  <thead>\n",
       "    <tr style=\"text-align: right;\">\n",
       "      <th></th>\n",
       "      <th>Date</th>\n",
       "      <th>Open</th>\n",
       "      <th>High</th>\n",
       "      <th>Low</th>\n",
       "      <th>Close</th>\n",
       "      <th>Volume</th>\n",
       "    </tr>\n",
       "  </thead>\n",
       "  <tbody>\n",
       "    <tr>\n",
       "      <th>0</th>\n",
       "      <td>2015-08-07</td>\n",
       "      <td>2.831620</td>\n",
       "      <td>3.536610</td>\n",
       "      <td>2.521120</td>\n",
       "      <td>2.772120</td>\n",
       "      <td>164329.0</td>\n",
       "    </tr>\n",
       "    <tr>\n",
       "      <th>1</th>\n",
       "      <td>2015-08-08</td>\n",
       "      <td>2.793760</td>\n",
       "      <td>2.798810</td>\n",
       "      <td>0.714725</td>\n",
       "      <td>0.753325</td>\n",
       "      <td>674188.0</td>\n",
       "    </tr>\n",
       "    <tr>\n",
       "      <th>2</th>\n",
       "      <td>2015-08-09</td>\n",
       "      <td>0.706136</td>\n",
       "      <td>0.879810</td>\n",
       "      <td>0.629191</td>\n",
       "      <td>0.701897</td>\n",
       "      <td>532170.0</td>\n",
       "    </tr>\n",
       "    <tr>\n",
       "      <th>3</th>\n",
       "      <td>2015-08-10</td>\n",
       "      <td>0.713989</td>\n",
       "      <td>0.729854</td>\n",
       "      <td>0.636546</td>\n",
       "      <td>0.708448</td>\n",
       "      <td>405283.0</td>\n",
       "    </tr>\n",
       "    <tr>\n",
       "      <th>4</th>\n",
       "      <td>2015-08-11</td>\n",
       "      <td>0.708087</td>\n",
       "      <td>1.131410</td>\n",
       "      <td>0.663235</td>\n",
       "      <td>1.067860</td>\n",
       "      <td>1463100.0</td>\n",
       "    </tr>\n",
       "  </tbody>\n",
       "</table>\n",
       "</div>"
      ],
      "text/plain": [
       "         Date      Open      High       Low     Close     Volume\n",
       "0  2015-08-07  2.831620  3.536610  2.521120  2.772120   164329.0\n",
       "1  2015-08-08  2.793760  2.798810  0.714725  0.753325   674188.0\n",
       "2  2015-08-09  0.706136  0.879810  0.629191  0.701897   532170.0\n",
       "3  2015-08-10  0.713989  0.729854  0.636546  0.708448   405283.0\n",
       "4  2015-08-11  0.708087  1.131410  0.663235  1.067860  1463100.0"
      ]
     },
     "execution_count": 4,
     "metadata": {},
     "output_type": "execute_result"
    }
   ],
   "source": [
    "df.head()"
   ]
  },
  {
   "cell_type": "code",
   "execution_count": 5,
   "metadata": {
    "papermill": {
     "duration": 0.053447,
     "end_time": "2021-07-27T17:53:53.957814",
     "exception": false,
     "start_time": "2021-07-27T17:53:53.904367",
     "status": "completed"
    },
    "tags": []
   },
   "outputs": [
    {
     "data": {
      "text/html": [
       "<div>\n",
       "<style scoped>\n",
       "    .dataframe tbody tr th:only-of-type {\n",
       "        vertical-align: middle;\n",
       "    }\n",
       "\n",
       "    .dataframe tbody tr th {\n",
       "        vertical-align: top;\n",
       "    }\n",
       "\n",
       "    .dataframe thead th {\n",
       "        text-align: right;\n",
       "    }\n",
       "</style>\n",
       "<table border=\"1\" class=\"dataframe\">\n",
       "  <thead>\n",
       "    <tr style=\"text-align: right;\">\n",
       "      <th></th>\n",
       "      <th>Open</th>\n",
       "      <th>High</th>\n",
       "      <th>Low</th>\n",
       "      <th>Close</th>\n",
       "      <th>Volume</th>\n",
       "    </tr>\n",
       "  </thead>\n",
       "  <tbody>\n",
       "    <tr>\n",
       "      <th>count</th>\n",
       "      <td>2177.000000</td>\n",
       "      <td>2177.000000</td>\n",
       "      <td>2177.000000</td>\n",
       "      <td>2177.000000</td>\n",
       "      <td>2.177000e+03</td>\n",
       "    </tr>\n",
       "    <tr>\n",
       "      <th>mean</th>\n",
       "      <td>398.054460</td>\n",
       "      <td>413.880550</td>\n",
       "      <td>380.314871</td>\n",
       "      <td>399.066543</td>\n",
       "      <td>7.125412e+09</td>\n",
       "    </tr>\n",
       "    <tr>\n",
       "      <th>std</th>\n",
       "      <td>618.185352</td>\n",
       "      <td>646.694116</td>\n",
       "      <td>585.147027</td>\n",
       "      <td>619.488385</td>\n",
       "      <td>1.065180e+10</td>\n",
       "    </tr>\n",
       "    <tr>\n",
       "      <th>min</th>\n",
       "      <td>0.431589</td>\n",
       "      <td>0.482988</td>\n",
       "      <td>0.420897</td>\n",
       "      <td>0.434829</td>\n",
       "      <td>1.021280e+05</td>\n",
       "    </tr>\n",
       "    <tr>\n",
       "      <th>25%</th>\n",
       "      <td>13.864300</td>\n",
       "      <td>14.373900</td>\n",
       "      <td>13.254300</td>\n",
       "      <td>13.883900</td>\n",
       "      <td>3.911200e+07</td>\n",
       "    </tr>\n",
       "    <tr>\n",
       "      <th>50%</th>\n",
       "      <td>200.608871</td>\n",
       "      <td>206.361450</td>\n",
       "      <td>194.783997</td>\n",
       "      <td>200.634995</td>\n",
       "      <td>2.201160e+09</td>\n",
       "    </tr>\n",
       "    <tr>\n",
       "      <th>75%</th>\n",
       "      <td>391.488617</td>\n",
       "      <td>405.616364</td>\n",
       "      <td>381.273834</td>\n",
       "      <td>392.189972</td>\n",
       "      <td>9.818257e+09</td>\n",
       "    </tr>\n",
       "    <tr>\n",
       "      <th>max</th>\n",
       "      <td>4174.635742</td>\n",
       "      <td>4362.350586</td>\n",
       "      <td>3785.848633</td>\n",
       "      <td>4168.701172</td>\n",
       "      <td>8.448291e+10</td>\n",
       "    </tr>\n",
       "  </tbody>\n",
       "</table>\n",
       "</div>"
      ],
      "text/plain": [
       "              Open         High          Low        Close        Volume\n",
       "count  2177.000000  2177.000000  2177.000000  2177.000000  2.177000e+03\n",
       "mean    398.054460   413.880550   380.314871   399.066543  7.125412e+09\n",
       "std     618.185352   646.694116   585.147027   619.488385  1.065180e+10\n",
       "min       0.431589     0.482988     0.420897     0.434829  1.021280e+05\n",
       "25%      13.864300    14.373900    13.254300    13.883900  3.911200e+07\n",
       "50%     200.608871   206.361450   194.783997   200.634995  2.201160e+09\n",
       "75%     391.488617   405.616364   381.273834   392.189972  9.818257e+09\n",
       "max    4174.635742  4362.350586  3785.848633  4168.701172  8.448291e+10"
      ]
     },
     "execution_count": 5,
     "metadata": {},
     "output_type": "execute_result"
    }
   ],
   "source": [
    "df.describe()"
   ]
  },
  {
   "cell_type": "code",
   "execution_count": 6,
   "metadata": {
    "papermill": {
     "duration": 0.031947,
     "end_time": "2021-07-27T17:53:54.011264",
     "exception": false,
     "start_time": "2021-07-27T17:53:53.979317",
     "status": "completed"
    },
    "tags": []
   },
   "outputs": [],
   "source": [
    "df['100ma'] = df['Close'].rolling(window = 100, min_periods = 0).mean()"
   ]
  },
  {
   "cell_type": "code",
   "execution_count": 7,
   "metadata": {
    "papermill": {
     "duration": 0.043096,
     "end_time": "2021-07-27T17:53:54.075135",
     "exception": false,
     "start_time": "2021-07-27T17:53:54.032039",
     "status": "completed"
    },
    "tags": []
   },
   "outputs": [
    {
     "data": {
      "text/html": [
       "<div>\n",
       "<style scoped>\n",
       "    .dataframe tbody tr th:only-of-type {\n",
       "        vertical-align: middle;\n",
       "    }\n",
       "\n",
       "    .dataframe tbody tr th {\n",
       "        vertical-align: top;\n",
       "    }\n",
       "\n",
       "    .dataframe thead th {\n",
       "        text-align: right;\n",
       "    }\n",
       "</style>\n",
       "<table border=\"1\" class=\"dataframe\">\n",
       "  <thead>\n",
       "    <tr style=\"text-align: right;\">\n",
       "      <th></th>\n",
       "      <th>Date</th>\n",
       "      <th>Open</th>\n",
       "      <th>High</th>\n",
       "      <th>Low</th>\n",
       "      <th>Close</th>\n",
       "      <th>Volume</th>\n",
       "      <th>100ma</th>\n",
       "    </tr>\n",
       "  </thead>\n",
       "  <tbody>\n",
       "    <tr>\n",
       "      <th>0</th>\n",
       "      <td>2015-08-07</td>\n",
       "      <td>2.831620</td>\n",
       "      <td>3.536610</td>\n",
       "      <td>2.521120</td>\n",
       "      <td>2.772120</td>\n",
       "      <td>1.643290e+05</td>\n",
       "      <td>2.772120</td>\n",
       "    </tr>\n",
       "    <tr>\n",
       "      <th>1</th>\n",
       "      <td>2015-08-08</td>\n",
       "      <td>2.793760</td>\n",
       "      <td>2.798810</td>\n",
       "      <td>0.714725</td>\n",
       "      <td>0.753325</td>\n",
       "      <td>6.741880e+05</td>\n",
       "      <td>1.762723</td>\n",
       "    </tr>\n",
       "    <tr>\n",
       "      <th>2</th>\n",
       "      <td>2015-08-09</td>\n",
       "      <td>0.706136</td>\n",
       "      <td>0.879810</td>\n",
       "      <td>0.629191</td>\n",
       "      <td>0.701897</td>\n",
       "      <td>5.321700e+05</td>\n",
       "      <td>1.409114</td>\n",
       "    </tr>\n",
       "    <tr>\n",
       "      <th>3</th>\n",
       "      <td>2015-08-10</td>\n",
       "      <td>0.713989</td>\n",
       "      <td>0.729854</td>\n",
       "      <td>0.636546</td>\n",
       "      <td>0.708448</td>\n",
       "      <td>4.052830e+05</td>\n",
       "      <td>1.233947</td>\n",
       "    </tr>\n",
       "    <tr>\n",
       "      <th>4</th>\n",
       "      <td>2015-08-11</td>\n",
       "      <td>0.708087</td>\n",
       "      <td>1.131410</td>\n",
       "      <td>0.663235</td>\n",
       "      <td>1.067860</td>\n",
       "      <td>1.463100e+06</td>\n",
       "      <td>1.200730</td>\n",
       "    </tr>\n",
       "    <tr>\n",
       "      <th>...</th>\n",
       "      <td>...</td>\n",
       "      <td>...</td>\n",
       "      <td>...</td>\n",
       "      <td>...</td>\n",
       "      <td>...</td>\n",
       "      <td>...</td>\n",
       "      <td>...</td>\n",
       "    </tr>\n",
       "    <tr>\n",
       "      <th>2176</th>\n",
       "      <td>2021-07-22</td>\n",
       "      <td>1994.822876</td>\n",
       "      <td>2044.116455</td>\n",
       "      <td>1954.297852</td>\n",
       "      <td>2025.202759</td>\n",
       "      <td>1.749548e+10</td>\n",
       "      <td>2543.801423</td>\n",
       "    </tr>\n",
       "    <tr>\n",
       "      <th>2177</th>\n",
       "      <td>2021-07-23</td>\n",
       "      <td>2025.105713</td>\n",
       "      <td>2129.441162</td>\n",
       "      <td>2000.436279</td>\n",
       "      <td>2124.776611</td>\n",
       "      <td>1.620039e+10</td>\n",
       "      <td>2540.698140</td>\n",
       "    </tr>\n",
       "    <tr>\n",
       "      <th>2178</th>\n",
       "      <td>2021-07-24</td>\n",
       "      <td>2123.961182</td>\n",
       "      <td>2197.649414</td>\n",
       "      <td>2107.323486</td>\n",
       "      <td>2189.218750</td>\n",
       "      <td>1.605745e+10</td>\n",
       "      <td>2537.399165</td>\n",
       "    </tr>\n",
       "    <tr>\n",
       "      <th>2179</th>\n",
       "      <td>2021-07-25</td>\n",
       "      <td>2187.145508</td>\n",
       "      <td>2194.438232</td>\n",
       "      <td>2108.829834</td>\n",
       "      <td>2191.373779</td>\n",
       "      <td>1.456648e+10</td>\n",
       "      <td>2534.993437</td>\n",
       "    </tr>\n",
       "    <tr>\n",
       "      <th>2180</th>\n",
       "      <td>2021-07-26</td>\n",
       "      <td>2177.329590</td>\n",
       "      <td>2384.400635</td>\n",
       "      <td>2177.329590</td>\n",
       "      <td>2340.090820</td>\n",
       "      <td>2.389353e+10</td>\n",
       "      <td>2534.945395</td>\n",
       "    </tr>\n",
       "  </tbody>\n",
       "</table>\n",
       "<p>2181 rows × 7 columns</p>\n",
       "</div>"
      ],
      "text/plain": [
       "            Date         Open         High          Low        Close  \\\n",
       "0     2015-08-07     2.831620     3.536610     2.521120     2.772120   \n",
       "1     2015-08-08     2.793760     2.798810     0.714725     0.753325   \n",
       "2     2015-08-09     0.706136     0.879810     0.629191     0.701897   \n",
       "3     2015-08-10     0.713989     0.729854     0.636546     0.708448   \n",
       "4     2015-08-11     0.708087     1.131410     0.663235     1.067860   \n",
       "...          ...          ...          ...          ...          ...   \n",
       "2176  2021-07-22  1994.822876  2044.116455  1954.297852  2025.202759   \n",
       "2177  2021-07-23  2025.105713  2129.441162  2000.436279  2124.776611   \n",
       "2178  2021-07-24  2123.961182  2197.649414  2107.323486  2189.218750   \n",
       "2179  2021-07-25  2187.145508  2194.438232  2108.829834  2191.373779   \n",
       "2180  2021-07-26  2177.329590  2384.400635  2177.329590  2340.090820   \n",
       "\n",
       "            Volume        100ma  \n",
       "0     1.643290e+05     2.772120  \n",
       "1     6.741880e+05     1.762723  \n",
       "2     5.321700e+05     1.409114  \n",
       "3     4.052830e+05     1.233947  \n",
       "4     1.463100e+06     1.200730  \n",
       "...            ...          ...  \n",
       "2176  1.749548e+10  2543.801423  \n",
       "2177  1.620039e+10  2540.698140  \n",
       "2178  1.605745e+10  2537.399165  \n",
       "2179  1.456648e+10  2534.993437  \n",
       "2180  2.389353e+10  2534.945395  \n",
       "\n",
       "[2181 rows x 7 columns]"
      ]
     },
     "execution_count": 7,
     "metadata": {},
     "output_type": "execute_result"
    }
   ],
   "source": [
    "df"
   ]
  },
  {
   "cell_type": "markdown",
   "metadata": {
    "papermill": {
     "duration": 0.021254,
     "end_time": "2021-07-27T17:53:54.118207",
     "exception": false,
     "start_time": "2021-07-27T17:53:54.096953",
     "status": "completed"
    },
    "tags": []
   },
   "source": [
    "# Visualizations"
   ]
  },
  {
   "cell_type": "code",
   "execution_count": 8,
   "metadata": {
    "papermill": {
     "duration": 0.654417,
     "end_time": "2021-07-27T17:53:54.793743",
     "exception": false,
     "start_time": "2021-07-27T17:53:54.139326",
     "status": "completed"
    },
    "tags": []
   },
   "outputs": [
    {
     "data": {
      "image/png": "[encoded data removed]",
      "text/plain": [
       "<Figure size 1152x432 with 1 Axes>"
      ]
     },
     "metadata": {
      "needs_background": "light"
     },
     "output_type": "display_data"
    }
   ],
   "source": [
    "fig, ax = plt.subplots(figsize=(16,6))\n",
    "ax.plot(df.Date, df.Close)\n",
    "ax.plot(df.Date, df['100ma'])\n",
    "ax.xaxis.set_major_locator(plt.MaxNLocator(15)) # reduce number of x-labels\n",
    "plt.title('Ethereum Prices')\n",
    "plt.grid()\n",
    "plt.show()"
   ]
  },
  {
   "cell_type": "code",
   "execution_count": 9,
   "metadata": {
    "papermill": {
     "duration": 0.432044,
     "end_time": "2021-07-27T17:53:55.249382",
     "exception": false,
     "start_time": "2021-07-27T17:53:54.817338",
     "status": "completed"
    },
    "tags": []
   },
   "outputs": [
    {
     "data": {
      "image/png": "[encoded data removed]",
      "text/plain": [
       "<Figure size 1152x432 with 1 Axes>"
      ]
     },
     "metadata": {
      "needs_background": "light"
     },
     "output_type": "display_data"
    }
   ],
   "source": [
    "fig, ax = plt.subplots(figsize=(16,6))\n",
    "ax.plot(df.Date, df.Volume)\n",
    "ax.xaxis.set_major_locator(plt.MaxNLocator(15)) # reduce number of x-labels\n",
    "plt.title('Ethereum Volumes')\n",
    "plt.grid()\n",
    "plt.show()"
   ]
  },
  {
   "cell_type": "markdown",
   "metadata": {
    "papermill": {
     "duration": 0.023976,
     "end_time": "2021-07-27T17:53:55.298604",
     "exception": false,
     "start_time": "2021-07-27T17:53:55.274628",
     "status": "completed"
    },
    "tags": []
   },
   "source": [
    "# Market Cap"
   ]
  },
  {
   "cell_type": "code",
   "execution_count": 10,
   "metadata": {
    "papermill": {
     "duration": 0.049695,
     "end_time": "2021-07-27T17:53:55.372503",
     "exception": false,
     "start_time": "2021-07-27T17:53:55.322808",
     "status": "completed"
    },
    "tags": []
   },
   "outputs": [],
   "source": [
    "df['Total Traded'] = df['Open']*df['Volume']"
   ]
  },
  {
   "cell_type": "code",
   "execution_count": 11,
   "metadata": {
    "papermill": {
     "duration": 0.428173,
     "end_time": "2021-07-27T17:53:55.825165",
     "exception": false,
     "start_time": "2021-07-27T17:53:55.396992",
     "status": "completed"
    },
    "tags": []
   },
   "outputs": [
    {
     "data": {
      "image/png": "[encoded data removed]",
      "text/plain": [
       "<Figure size 1152x432 with 1 Axes>"
      ]
     },
     "metadata": {
      "needs_background": "light"
     },
     "output_type": "display_data"
    }
   ],
   "source": [
    "fig, ax = plt.subplots(figsize=(16,6))\n",
    "ax.plot(df.Date, df['Total Traded'])\n",
    "ax.xaxis.set_major_locator(plt.MaxNLocator(15)) # reduce number of x-labels\n",
    "plt.title('Total Traded')\n",
    "plt.grid()\n",
    "plt.show()"
   ]
  },
  {
   "cell_type": "markdown",
   "metadata": {
    "papermill": {
     "duration": 0.025681,
     "end_time": "2021-07-27T17:53:55.877537",
     "exception": false,
     "start_time": "2021-07-27T17:53:55.851856",
     "status": "completed"
    },
    "tags": []
   },
   "source": [
    "We notice a **huge spike** in Ethereum market cap somewhere in 2021 let's investigate more :"
   ]
  },
  {
   "cell_type": "code",
   "execution_count": 12,
   "metadata": {
    "papermill": {
     "duration": 0.037931,
     "end_time": "2021-07-27T17:53:55.941251",
     "exception": false,
     "start_time": "2021-07-27T17:53:55.903320",
     "status": "completed"
    },
    "tags": []
   },
   "outputs": [
    {
     "data": {
      "text/plain": [
       "Date             2021-05-13\n",
       "Open                3828.92\n",
       "High                4032.56\n",
       "Low                 3549.41\n",
       "Close               3715.15\n",
       "Volume          7.83982e+10\n",
       "100ma               2140.18\n",
       "Total Traded     3.0018e+14\n",
       "Name: 2106, dtype: object"
      ]
     },
     "execution_count": 12,
     "metadata": {},
     "output_type": "execute_result"
    }
   ],
   "source": [
    "df.iloc[df['Total Traded'].argmax()]"
   ]
  },
  {
   "cell_type": "markdown",
   "metadata": {
    "papermill": {
     "duration": 0.02493,
     "end_time": "2021-07-27T17:53:55.991414",
     "exception": false,
     "start_time": "2021-07-27T17:53:55.966484",
     "status": "completed"
    },
    "tags": []
   },
   "source": [
    "After a quick web search we found out that around 13th March, Ethereum spiked due to the rise of NFTs and DeFi applications to quote from the article : \n",
    "> Ethereum’s growth is attributed to an increasing number of developers building **decentralized finance** (DeFi) applications on the Ethereum blockchain platform. The rise of **non-fungible tokens** (NFT) also increases demand for Ethereum.\n",
    "> Lastly, continued institutional interest in treating crypto like any other security also helps ETH. Coinbase is the new NYSE. ETH is No. 2 on Coinbase after Bitcoin.\n",
    "> Seeing how the DeFi and NFT movements are directly connected to Ethereum, their increased activity has been the main driver for ETH prices in 2021, says Andrew Moss, GSR Capital’s managing director. “Users need ETH to interact with these technologies, so the more people who are involved with these communities and protocols, the higher the value of ETH goes,” he says.\n",
    "\n",
    "* Source : https://www.forbes.com/sites/kenrapoza/2021/05/16/ethereum-faces-weekend-rout-but-some-see-eth-doubling-from-here/?sh=6845bee93817"
   ]
  },
  {
   "cell_type": "markdown",
   "metadata": {
    "papermill": {
     "duration": 0.024977,
     "end_time": "2021-07-27T17:53:56.042522",
     "exception": false,
     "start_time": "2021-07-27T17:53:56.017545",
     "status": "completed"
    },
    "tags": []
   },
   "source": [
    "We are going to plot a candlestick plot for Ethereum prices from April 2021"
   ]
  },
  {
   "cell_type": "code",
   "execution_count": 13,
   "metadata": {
    "papermill": {
     "duration": 0.721763,
     "end_time": "2021-07-27T17:53:56.789680",
     "exception": false,
     "start_time": "2021-07-27T17:53:56.067917",
     "status": "completed"
    },
    "tags": []
   },
   "outputs": [
    {
     "data": {
      "image/png": "[encoded data removed]",
      "text/plain": [
       "<Figure size 1152x432 with 1 Axes>"
      ]
     },
     "metadata": {
      "needs_background": "light"
     },
     "output_type": "display_data"
    }
   ],
   "source": [
    "ohlc = df[(df['Date'] > '2021-04-01') & (df['Date'] <= '2021-07-26')]\n",
    "ohlc = ohlc.loc[:, ['Date', 'Open', 'High', 'Low', 'Close']]\n",
    "ohlc['Date'] = pd.to_datetime(ohlc['Date'])\n",
    "ohlc['Date'] = ohlc['Date'].apply(mpl_dates.date2num)\n",
    "ohlc = ohlc.astype(float)\n",
    "fig, ax = plt.subplots(figsize = (16,6))\n",
    "candlestick_ohlc(ax, ohlc.values, width=0.6, colorup='green', colordown='red', alpha=0.8)\n",
    "ax.set_xlabel('Date')\n",
    "ax.set_ylabel('Price')\n",
    "date_format = mpl_dates.DateFormatter('%d-%m-%Y')\n",
    "ax.xaxis.set_major_formatter(date_format)\n",
    "fig.autofmt_xdate()\n",
    "\n",
    "fig.tight_layout()\n",
    "\n",
    "plt.show()"
   ]
  },
  {
   "cell_type": "markdown",
   "metadata": {
    "papermill": {
     "duration": 0.025789,
     "end_time": "2021-07-27T17:53:56.842753",
     "exception": false,
     "start_time": "2021-07-27T17:53:56.816964",
     "status": "completed"
    },
    "tags": []
   },
   "source": [
    "# Daily Percentage Change"
   ]
  },
  {
   "cell_type": "markdown",
   "metadata": {
    "papermill": {
     "duration": 0.026152,
     "end_time": "2021-07-27T17:53:56.895703",
     "exception": false,
     "start_time": "2021-07-27T17:53:56.869551",
     "status": "completed"
    },
    "tags": []
   },
   "source": [
    "The simple daily percentage change in closing price (without dividends and other factors) is the percentage change in the value of a stock over a single day of trading. It is defined by the following formula:\n",
    "\n",
    "$$r_{t}=\\frac{p_{t}}{p_{t-1}}-1$$\n",
    "\n",
    "It's really useful as it indicates how **volatile** the currency is"
   ]
  },
  {
   "cell_type": "code",
   "execution_count": 14,
   "metadata": {
    "papermill": {
     "duration": 0.040302,
     "end_time": "2021-07-27T17:53:56.963020",
     "exception": false,
     "start_time": "2021-07-27T17:53:56.922718",
     "status": "completed"
    },
    "tags": []
   },
   "outputs": [],
   "source": [
    "df[\"returns\"] = (df[\"Close\"]/df[\"Close\"].shift(1)) - 1"
   ]
  },
  {
   "cell_type": "code",
   "execution_count": 15,
   "metadata": {
    "papermill": {
     "duration": 0.431829,
     "end_time": "2021-07-27T17:53:57.421247",
     "exception": false,
     "start_time": "2021-07-27T17:53:56.989418",
     "status": "completed"
    },
    "tags": []
   },
   "outputs": [
    {
     "data": {
      "image/png": "[encoded data removed]",
      "text/plain": [
       "<Figure size 1152x432 with 1 Axes>"
      ]
     },
     "metadata": {
      "needs_background": "light"
     },
     "output_type": "display_data"
    }
   ],
   "source": [
    "fig, ax = plt.subplots(figsize=(16,6))\n",
    "ax.plot(df.Date, df['returns'])\n",
    "ax.xaxis.set_major_locator(plt.MaxNLocator(15)) # reduce number of x-labels\n",
    "plt.title('Returns')\n",
    "plt.grid()\n",
    "plt.show()"
   ]
  },
  {
   "cell_type": "code",
   "execution_count": 16,
   "metadata": {
    "papermill": {
     "duration": 0.362576,
     "end_time": "2021-07-27T17:53:57.812258",
     "exception": false,
     "start_time": "2021-07-27T17:53:57.449682",
     "status": "completed"
    },
    "tags": []
   },
   "outputs": [
    {
     "data": {
      "text/plain": [
       "<AxesSubplot:>"
      ]
     },
     "execution_count": 16,
     "metadata": {},
     "output_type": "execute_result"
    },
    {
     "data": {
      "image/png": "[encoded data removed]",
      "text/plain": [
       "<Figure size 432x288 with 1 Axes>"
      ]
     },
     "metadata": {
      "needs_background": "light"
     },
     "output_type": "display_data"
    }
   ],
   "source": [
    "df[\"returns\"].hist(bins=100)"
   ]
  },
  {
   "cell_type": "code",
   "execution_count": 17,
   "metadata": {
    "papermill": {
     "duration": 0.042307,
     "end_time": "2021-07-27T17:53:57.883592",
     "exception": false,
     "start_time": "2021-07-27T17:53:57.841285",
     "status": "completed"
    },
    "tags": []
   },
   "outputs": [
    {
     "data": {
      "text/plain": [
       "count    2173.000000\n",
       "mean        0.005239\n",
       "std         0.064879\n",
       "min        -0.728249\n",
       "25%        -0.023096\n",
       "50%         0.000717\n",
       "75%         0.029766\n",
       "max         0.507323\n",
       "Name: returns, dtype: float64"
      ]
     },
     "execution_count": 17,
     "metadata": {},
     "output_type": "execute_result"
    }
   ],
   "source": [
    "df[\"returns\"].describe()"
   ]
  },
  {
   "cell_type": "code",
   "execution_count": 18,
   "metadata": {
    "papermill": {
     "duration": 0.158545,
     "end_time": "2021-07-27T17:53:58.071356",
     "exception": false,
     "start_time": "2021-07-27T17:53:57.912811",
     "status": "completed"
    },
    "tags": []
   },
   "outputs": [
    {
     "data": {
      "text/plain": [
       "<AxesSubplot:>"
      ]
     },
     "execution_count": 18,
     "metadata": {},
     "output_type": "execute_result"
    },
    {
     "data": {
      "image/png": "[encoded data removed]",
      "text/plain": [
       "<Figure size 432x432 with 1 Axes>"
      ]
     },
     "metadata": {
      "needs_background": "light"
     },
     "output_type": "display_data"
    }
   ],
   "source": [
    "df[\"returns\"].plot(kind = \"box\", figsize = (6,6))"
   ]
  },
  {
   "cell_type": "markdown",
   "metadata": {
    "papermill": {
     "duration": 0.031331,
     "end_time": "2021-07-27T17:53:58.134344",
     "exception": false,
     "start_time": "2021-07-27T17:53:58.103013",
     "status": "completed"
    },
    "tags": []
   },
   "source": [
    "# Cumulative Return"
   ]
  },
  {
   "cell_type": "markdown",
   "metadata": {
    "papermill": {
     "duration": 0.02992,
     "end_time": "2021-07-27T17:53:58.195017",
     "exception": false,
     "start_time": "2021-07-27T17:53:58.165097",
     "status": "completed"
    },
    "tags": []
   },
   "source": [
    "A cumulative return on an investment is the aggregate amount that the investment has gained or lost over time, independent of the amount of time involved. The cumulative return is expressed as a percentage, and it is the raw mathematical return of the following calculation: \n",
    "\n",
    "$$i_{t}=\\left(1+r_{t}\\right) i_{t-1}$$"
   ]
  },
  {
   "cell_type": "code",
   "execution_count": 19,
   "metadata": {
    "papermill": {
     "duration": 0.041963,
     "end_time": "2021-07-27T17:53:58.266719",
     "exception": false,
     "start_time": "2021-07-27T17:53:58.224756",
     "status": "completed"
    },
    "tags": []
   },
   "outputs": [],
   "source": [
    "df[\"Cumulative Return\"] = (1 + df[\"returns\"]).cumprod()"
   ]
  },
  {
   "cell_type": "code",
   "execution_count": 20,
   "metadata": {
    "papermill": {
     "duration": 0.055346,
     "end_time": "2021-07-27T17:53:58.352138",
     "exception": false,
     "start_time": "2021-07-27T17:53:58.296792",
     "status": "completed"
    },
    "tags": []
   },
   "outputs": [
    {
     "data": {
      "text/html": [
       "<div>\n",
       "<style scoped>\n",
       "    .dataframe tbody tr th:only-of-type {\n",
       "        vertical-align: middle;\n",
       "    }\n",
       "\n",
       "    .dataframe tbody tr th {\n",
       "        vertical-align: top;\n",
       "    }\n",
       "\n",
       "    .dataframe thead th {\n",
       "        text-align: right;\n",
       "    }\n",
       "</style>\n",
       "<table border=\"1\" class=\"dataframe\">\n",
       "  <thead>\n",
       "    <tr style=\"text-align: right;\">\n",
       "      <th></th>\n",
       "      <th>Date</th>\n",
       "      <th>Open</th>\n",
       "      <th>High</th>\n",
       "      <th>Low</th>\n",
       "      <th>Close</th>\n",
       "      <th>Volume</th>\n",
       "      <th>100ma</th>\n",
       "      <th>Total Traded</th>\n",
       "      <th>returns</th>\n",
       "      <th>Cumulative Return</th>\n",
       "    </tr>\n",
       "  </thead>\n",
       "  <tbody>\n",
       "    <tr>\n",
       "      <th>0</th>\n",
       "      <td>2015-08-07</td>\n",
       "      <td>2.831620</td>\n",
       "      <td>3.536610</td>\n",
       "      <td>2.521120</td>\n",
       "      <td>2.772120</td>\n",
       "      <td>1.643290e+05</td>\n",
       "      <td>2.772120</td>\n",
       "      <td>4.653173e+05</td>\n",
       "      <td>NaN</td>\n",
       "      <td>NaN</td>\n",
       "    </tr>\n",
       "    <tr>\n",
       "      <th>1</th>\n",
       "      <td>2015-08-08</td>\n",
       "      <td>2.793760</td>\n",
       "      <td>2.798810</td>\n",
       "      <td>0.714725</td>\n",
       "      <td>0.753325</td>\n",
       "      <td>6.741880e+05</td>\n",
       "      <td>1.762723</td>\n",
       "      <td>1.883519e+06</td>\n",
       "      <td>-0.728249</td>\n",
       "      <td>0.271751</td>\n",
       "    </tr>\n",
       "    <tr>\n",
       "      <th>2</th>\n",
       "      <td>2015-08-09</td>\n",
       "      <td>0.706136</td>\n",
       "      <td>0.879810</td>\n",
       "      <td>0.629191</td>\n",
       "      <td>0.701897</td>\n",
       "      <td>5.321700e+05</td>\n",
       "      <td>1.409114</td>\n",
       "      <td>3.757844e+05</td>\n",
       "      <td>-0.068268</td>\n",
       "      <td>0.253199</td>\n",
       "    </tr>\n",
       "    <tr>\n",
       "      <th>3</th>\n",
       "      <td>2015-08-10</td>\n",
       "      <td>0.713989</td>\n",
       "      <td>0.729854</td>\n",
       "      <td>0.636546</td>\n",
       "      <td>0.708448</td>\n",
       "      <td>4.052830e+05</td>\n",
       "      <td>1.233947</td>\n",
       "      <td>2.893676e+05</td>\n",
       "      <td>0.009333</td>\n",
       "      <td>0.255562</td>\n",
       "    </tr>\n",
       "    <tr>\n",
       "      <th>4</th>\n",
       "      <td>2015-08-11</td>\n",
       "      <td>0.708087</td>\n",
       "      <td>1.131410</td>\n",
       "      <td>0.663235</td>\n",
       "      <td>1.067860</td>\n",
       "      <td>1.463100e+06</td>\n",
       "      <td>1.200730</td>\n",
       "      <td>1.036002e+06</td>\n",
       "      <td>0.507323</td>\n",
       "      <td>0.385214</td>\n",
       "    </tr>\n",
       "    <tr>\n",
       "      <th>...</th>\n",
       "      <td>...</td>\n",
       "      <td>...</td>\n",
       "      <td>...</td>\n",
       "      <td>...</td>\n",
       "      <td>...</td>\n",
       "      <td>...</td>\n",
       "      <td>...</td>\n",
       "      <td>...</td>\n",
       "      <td>...</td>\n",
       "      <td>...</td>\n",
       "    </tr>\n",
       "    <tr>\n",
       "      <th>2176</th>\n",
       "      <td>2021-07-22</td>\n",
       "      <td>1994.822876</td>\n",
       "      <td>2044.116455</td>\n",
       "      <td>1954.297852</td>\n",
       "      <td>2025.202759</td>\n",
       "      <td>1.749548e+10</td>\n",
       "      <td>2543.801423</td>\n",
       "      <td>3.490038e+13</td>\n",
       "      <td>0.017194</td>\n",
       "      <td>630.198125</td>\n",
       "    </tr>\n",
       "    <tr>\n",
       "      <th>2177</th>\n",
       "      <td>2021-07-23</td>\n",
       "      <td>2025.105713</td>\n",
       "      <td>2129.441162</td>\n",
       "      <td>2000.436279</td>\n",
       "      <td>2124.776611</td>\n",
       "      <td>1.620039e+10</td>\n",
       "      <td>2540.698140</td>\n",
       "      <td>3.280751e+13</td>\n",
       "      <td>0.049167</td>\n",
       "      <td>661.183296</td>\n",
       "    </tr>\n",
       "    <tr>\n",
       "      <th>2178</th>\n",
       "      <td>2021-07-24</td>\n",
       "      <td>2123.961182</td>\n",
       "      <td>2197.649414</td>\n",
       "      <td>2107.323486</td>\n",
       "      <td>2189.218750</td>\n",
       "      <td>1.605745e+10</td>\n",
       "      <td>2537.399165</td>\n",
       "      <td>3.410539e+13</td>\n",
       "      <td>0.030329</td>\n",
       "      <td>681.236259</td>\n",
       "    </tr>\n",
       "    <tr>\n",
       "      <th>2179</th>\n",
       "      <td>2021-07-25</td>\n",
       "      <td>2187.145508</td>\n",
       "      <td>2194.438232</td>\n",
       "      <td>2108.829834</td>\n",
       "      <td>2191.373779</td>\n",
       "      <td>1.456648e+10</td>\n",
       "      <td>2534.993437</td>\n",
       "      <td>3.185902e+13</td>\n",
       "      <td>0.000984</td>\n",
       "      <td>681.906856</td>\n",
       "    </tr>\n",
       "    <tr>\n",
       "      <th>2180</th>\n",
       "      <td>2021-07-26</td>\n",
       "      <td>2177.329590</td>\n",
       "      <td>2384.400635</td>\n",
       "      <td>2177.329590</td>\n",
       "      <td>2340.090820</td>\n",
       "      <td>2.389353e+10</td>\n",
       "      <td>2534.945395</td>\n",
       "      <td>5.202409e+13</td>\n",
       "      <td>0.067865</td>\n",
       "      <td>728.184297</td>\n",
       "    </tr>\n",
       "  </tbody>\n",
       "</table>\n",
       "<p>2181 rows × 10 columns</p>\n",
       "</div>"
      ],
      "text/plain": [
       "            Date         Open         High          Low        Close  \\\n",
       "0     2015-08-07     2.831620     3.536610     2.521120     2.772120   \n",
       "1     2015-08-08     2.793760     2.798810     0.714725     0.753325   \n",
       "2     2015-08-09     0.706136     0.879810     0.629191     0.701897   \n",
       "3     2015-08-10     0.713989     0.729854     0.636546     0.708448   \n",
       "4     2015-08-11     0.708087     1.131410     0.663235     1.067860   \n",
       "...          ...          ...          ...          ...          ...   \n",
       "2176  2021-07-22  1994.822876  2044.116455  1954.297852  2025.202759   \n",
       "2177  2021-07-23  2025.105713  2129.441162  2000.436279  2124.776611   \n",
       "2178  2021-07-24  2123.961182  2197.649414  2107.323486  2189.218750   \n",
       "2179  2021-07-25  2187.145508  2194.438232  2108.829834  2191.373779   \n",
       "2180  2021-07-26  2177.329590  2384.400635  2177.329590  2340.090820   \n",
       "\n",
       "            Volume        100ma  Total Traded   returns  Cumulative Return  \n",
       "0     1.643290e+05     2.772120  4.653173e+05       NaN                NaN  \n",
       "1     6.741880e+05     1.762723  1.883519e+06 -0.728249           0.271751  \n",
       "2     5.321700e+05     1.409114  3.757844e+05 -0.068268           0.253199  \n",
       "3     4.052830e+05     1.233947  2.893676e+05  0.009333           0.255562  \n",
       "4     1.463100e+06     1.200730  1.036002e+06  0.507323           0.385214  \n",
       "...            ...          ...           ...       ...                ...  \n",
       "2176  1.749548e+10  2543.801423  3.490038e+13  0.017194         630.198125  \n",
       "2177  1.620039e+10  2540.698140  3.280751e+13  0.049167         661.183296  \n",
       "2178  1.605745e+10  2537.399165  3.410539e+13  0.030329         681.236259  \n",
       "2179  1.456648e+10  2534.993437  3.185902e+13  0.000984         681.906856  \n",
       "2180  2.389353e+10  2534.945395  5.202409e+13  0.067865         728.184297  \n",
       "\n",
       "[2181 rows x 10 columns]"
      ]
     },
     "execution_count": 20,
     "metadata": {},
     "output_type": "execute_result"
    }
   ],
   "source": [
    "df"
   ]
  },
  {
   "cell_type": "code",
   "execution_count": 21,
   "metadata": {
    "papermill": {
     "duration": 0.429269,
     "end_time": "2021-07-27T17:53:58.811887",
     "exception": false,
     "start_time": "2021-07-27T17:53:58.382618",
     "status": "completed"
    },
    "tags": []
   },
   "outputs": [
    {
     "data": {
      "image/png": "[encoded data removed]",
      "text/plain": [
       "<Figure size 1152x432 with 1 Axes>"
      ]
     },
     "metadata": {
      "needs_background": "light"
     },
     "output_type": "display_data"
    }
   ],
   "source": [
    "fig, ax = plt.subplots(figsize=(16,6))\n",
    "ax.plot(df.Date, df['Cumulative Return'])\n",
    "ax.xaxis.set_major_locator(plt.MaxNLocator(15)) # reduce number of x-labels\n",
    "plt.title('Cumulative Return')\n",
    "plt.grid()\n",
    "plt.show()"
   ]
  },
  {
   "cell_type": "code",
   "execution_count": 22,
   "metadata": {
    "papermill": {
     "duration": 0.04414,
     "end_time": "2021-07-27T17:53:58.888366",
     "exception": false,
     "start_time": "2021-07-27T17:53:58.844226",
     "status": "completed"
    },
    "tags": []
   },
   "outputs": [
    {
     "data": {
      "text/plain": [
       "Date                  2021-05-11\n",
       "Open                     3948.27\n",
       "High                     4178.21\n",
       "Low                      3783.89\n",
       "Close                     4168.7\n",
       "Volume               5.26797e+10\n",
       "100ma                    2094.01\n",
       "Total Traded         2.07994e+14\n",
       "returns                0.0547548\n",
       "Cumulative Return        1297.21\n",
       "Name: 2104, dtype: object"
      ]
     },
     "execution_count": 22,
     "metadata": {},
     "output_type": "execute_result"
    }
   ],
   "source": [
    "df.iloc[df['Cumulative Return'].argmax()]"
   ]
  },
  {
   "cell_type": "markdown",
   "metadata": {
    "papermill": {
     "duration": 0.0323,
     "end_time": "2021-07-27T17:53:58.953127",
     "exception": false,
     "start_time": "2021-07-27T17:53:58.920827",
     "status": "completed"
    },
    "tags": []
   },
   "source": [
    "## Conclusion : \n",
    "\n",
    "We see that **May 2021** was the best time to sell if you want the most profit after that the value of Ethereum kinda went down, also **2017** was also a good time for Ethereum, if you have been investing since the start you would have gained **730%** in returns and if you sold at the peak you would have gained **1300%**, We also notice that Ethereum is highly **volatile** so one should be very cautious while investing.\n",
    "\n",
    "Cryptocurrency in general are quite volatile this is the case for many reasons and as I'm a financial expert I'm gonna quote an article i searched for :\n",
    ">Many of the reasons for price volatility in mainstream markets hold true for cryptocurrencies as well. News developments and speculation are responsible for fueling price swings in crypto and mainstream markets alike. But their effect is exaggerated in crypto markets as they have less liquidity than traditional financial markets — a result of crypto markets lacking a robust ecosystem of institutional investors and large trading firms. Heightened volatility and a lack of liquidity can create a dangerous combination because both feed off of each other. Other than bitcoin, most other cryptocurrencies also lack established and widely adopted derivatives markets. Under the sway of day traders and speculators, crypto prices sometimes exhibit healthy volatility of the type we see in mainstream markets.\n",
    "\n",
    "* Source : https://www.gemini.com/cryptopedia/volatility-index-crypto-market-price\n",
    "\n",
    "But I still think that Ethereum still has a bright future especially after the recent developments of **Ethereum 2.0**"
   ]
  },
  {
   "cell_type": "markdown",
   "metadata": {},
   "source": [
    "### Why can't we use machine learning to predict prices ?"
   ]
  },
  {
   "cell_type": "markdown",
   "metadata": {},
   "source": [
    "There is far more going on in the stock market data than can be captured simply by looking at a univariate series of historical values. The stock prices are not the result of a couple of underlying causal factors, but a rather a multitude of contributions as well as a good dose of human irrationality. Indeed it has been posited that stock data is almost random.\n",
    "\n",
    "There is a great notebook that explains why predicting stock prices is very hard :\n",
    "https://www.kaggle.com/carlmcbrideellis/lstm-time-series-stock-price-prediction-fail"
   ]
  }
 ],
 "metadata": {
  "kernelspec": {
   "display_name": "Python 3",
   "language": "python",
   "name": "python3"
  },
  "language_info": {
   "codemirror_mode": {
    "name": "ipython",
    "version": 3
   },
   "file_extension": ".py",
   "mimetype": "text/x-python",
   "name": "python",
   "nbconvert_exporter": "python",
   "pygments_lexer": "ipython3",
   "version": "3.8.2"
  },
  "papermill": {
   "default_parameters": {},
   "duration": 23.927421,
   "end_time": "2021-07-27T17:54:00.604987",
   "environment_variables": {},
   "exception": null,
   "input_path": "__notebook__.ipynb",
   "output_path": "__notebook__.ipynb",
   "parameters": {},
   "start_time": "2021-07-27T17:53:36.677566",
   "version": "2.3.3"
  }
 },
 "nbformat": 4,
 "nbformat_minor": 5
}
